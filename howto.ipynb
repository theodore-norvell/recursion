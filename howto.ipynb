{
 "cells": [
  {
   "cell_type": "markdown",
   "metadata": {},
   "source": [
    "Copyright (c) Theodore Norvell 2017. Licence: [Creative Commons Noncommercial Attribution International 4.0.](https://creativecommons.org/licenses/by-nc/4.0/)\n",
    "\n",
    "This is a Jupyter notebook. See [How to use these notes](howto.ipynb)."
   ]
  },
  {
   "cell_type": "markdown",
   "metadata": {},
   "source": [
    "<==[Introduction](intro.ipynb)== || [Table of contents](index.ipynb) || ==[Factorial](Factorial.ipynb)==>"
   ]
  },
  {
   "cell_type": "markdown",
   "metadata": {},
   "source": [
    "# How to use these notes\n",
    "\n",
    "These notes are written using Jupyter Notebook. This is a web app that lets me easily create the notes.\n",
    "\n",
    "As mentioned in the Introduction, you don't need to use Python.  You can use any programming language.  Well, any programming language that supports recursion, which is to say almost any language you are likely to encounter except COBOL and older versions of FORTRAN.\n",
    "\n",
    "## If you are using Python\n",
    "\n",
    "There are at least two ways to use these notes with Python.  \n",
    "\n",
    "### Using Python with an IDE or text editor\n",
    "\n",
    "If you are reading these notes on the web in HTML, you can follow along by using Python 3 in IDLE (or your favourite IDE) or just using a good text editor and the Pyhton 3 interpreter.  You should be able to copy code from the web pages and paste it into your text editor.  I'd suggest making one Python file per web page.\n",
    "\n",
    "* There is a nice video on using IDLE [on YouTube](https://www.youtube.com/watch?v=kXbpB5_ywDw).\n",
    "* And [here is a you tube](https://www.youtube.com/watch?v=pofWfJc3Zog) video on using the Python interpreter with a text editor.\n",
    "\n",
    "### Using Python with Jupyter Notebook\n",
    "\n",
    "However the best way to use these notes may be via the Jupyter Notebook app.  After intalling Python 3 and Jupyter Notebook, you can download these notes from github and then view and edit them in Jupyter Notebook.  This way you can easily add missing code to these notes and then execute the code very simply. \n",
    "\n",
    "* Install Jupyter.  [Intructions are here](http://jupyter.org/install.html)\n",
    "* Download or clone these notes from [our github repository](https://github.com/theodore-norvell/recursion).\n",
    "* cd to the root directory and run 'jupyter notebook'\n",
    "* Your browswer should show the files in a tab called \"Home\".\n",
    "* Click on 'index.ipynb'\n",
    "\n",
    "## Using another language\n",
    "\n",
    "This will be a little more work.\n",
    "\n",
    "Translate the contracts and tests into the other language."
   ]
  },
  {
   "cell_type": "markdown",
   "metadata": {},
   "source": [
    "<==[Introduction](intro.ipynb)== || [Table of contents](index.ipynb) || ==[Factorial](Factorial.ipynb)==>"
   ]
  },
  {
   "cell_type": "code",
   "execution_count": null,
   "metadata": {
    "collapsed": true
   },
   "outputs": [],
   "source": []
  }
 ],
 "metadata": {
  "anaconda-cloud": {},
  "kernelspec": {
   "display_name": "Python [default]",
   "language": "python",
   "name": "python3"
  },
  "language_info": {
   "codemirror_mode": {
    "name": "ipython",
    "version": 3
   },
   "file_extension": ".py",
   "mimetype": "text/x-python",
   "name": "python",
   "nbconvert_exporter": "python",
   "pygments_lexer": "ipython3",
   "version": "3.5.2"
  }
 },
 "nbformat": 4,
 "nbformat_minor": 1
}
