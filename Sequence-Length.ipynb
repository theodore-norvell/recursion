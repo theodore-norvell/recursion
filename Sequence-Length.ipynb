{
 "cells": [
  {
   "cell_type": "markdown",
   "metadata": {},
   "source": [
    "Copyright (c) Theodore Norvell 2017. Licence: [Creative Commons Noncommercial Attribution International 4.0.](https://creativecommons.org/licenses/by-nc/4.0/)\n",
    "\n",
    "This is a Jupyter notebook. See [How to use these notes](howto.ipynb).\n",
    "\n",
    "[UP TO THE TABLE OF CONTENTS](index.ipynb)"
   ]
  },
  {
   "cell_type": "markdown",
   "metadata": {},
   "source": [
    "# Sequence length\n",
    "\n",
    "## The problem\n",
    "\n",
    "Suppose we have a sequence. How can we find its length.  Well if the sequence is represented by a Python `list` or a Python `tuple` object, we can just use the `len` function."
   ]
  },
  {
   "cell_type": "code",
   "execution_count": 14,
   "metadata": {
    "collapsed": false
   },
   "outputs": [
    {
     "data": {
      "text/plain": [
       "8"
      ]
     },
     "execution_count": 14,
     "metadata": {},
     "output_type": "execute_result"
    }
   ],
   "source": [
    "aList = ['r' 'e', 'c', 'u', 'r', 's', 'i', 'o', 'n']\n",
    "len( aList )"
   ]
  },
  {
   "cell_type": "code",
   "execution_count": 15,
   "metadata": {
    "collapsed": false
   },
   "outputs": [
    {
     "data": {
      "text/plain": [
       "9"
      ]
     },
     "execution_count": 15,
     "metadata": {},
     "output_type": "execute_result"
    }
   ],
   "source": [
    "aTuple = ('w' 'o', 'n', 'd', 'e', 'r', 'l', 'a', 'n', 'd') ;\n",
    "len( aTuple )"
   ]
  },
  {
   "cell_type": "markdown",
   "metadata": {},
   "source": [
    "But let's suppose Python didn't have a length function. How can we write one using recursion.\n",
    "\n",
    "This isn't something I'd normally do, at least not in Python, but the point of these exercises is to get comfortable with recursion, not to learn the best way to solve problems.\n",
    "\n",
    "\n",
    "\n",
    "### A few words about sequences, lists, and tuples\n",
    "\n",
    "Python has several built-in types for representing sequences and more can be added by class defnitions.  The built-in types include `tuple`, `list`, `string`, `bytes`, and `bytearray`.  I'm going to use tuples mostly. To make the code less dependent on the details of Python, we'll make and use the following definitions"
   ]
  },
  {
   "cell_type": "code",
   "execution_count": 38,
   "metadata": {
    "collapsed": false
   },
   "outputs": [],
   "source": [
    "def isEmpty( s ):\n",
    "    \"\"\"Pre: s is a sequence represented by a tuple\n",
    "    Post: result is true if s is empty and false otherwise\n",
    "    \"\"\"\n",
    "    assert isinstance(s, tuple)\n",
    "    return s == ()\n",
    "def cons( x, s ) :\n",
    "    \"\"\"Pre: s is is a sequence represented by a tuple\n",
    "    Post: result is a sequence represented by a tuple with x as its first item and s as the rest.\n",
    "    \"\"\"\n",
    "    assert isinstance(s, tuple)\n",
    "    return (x,) + s\n",
    "def first( s ) :\n",
    "    \"\"\"Pre: s is is a nonempty sequence represented by a tuple\n",
    "    Post: result the first item of the sequence\n",
    "    \"\"\"\n",
    "    assert isinstance(s, tuple) and s != ()\n",
    "    return s[0] ;\n",
    "def rest( s ) :\n",
    "    \"\"\"Pre: s is is a nonempty sequence represented by a tuple\n",
    "    Post: result the first item of the sequence\n",
    "    \"\"\"\n",
    "    assert isinstance(s, tuple) and s != ()\n",
    "    fst, *rst = s\n",
    "    return tuple(rst);\n",
    "def decons( s ) :\n",
    "    \"\"\"Pre: s is is a nonempty sequence represented by a tuple\n",
    "    Post: result is a pair consisting of the first items of s and a tuple of the rest of the items\n",
    "    \"\"\"\n",
    "    assert isinstance(s, tuple) and s != ()\n",
    "    fst, *rst = s\n",
    "    return fst, tuple(rst)\n",
    "    "
   ]
  },
  {
   "cell_type": "markdown",
   "metadata": {},
   "source": [
    "### A contract\n",
    "\n",
    "We write a contract for a `length` function which will find the length of a sequence represented by a tuple.\n",
    "The contract is\n",
    "\n",
    "~~~~python\n",
    "    def length( s ):\n",
    "        \"\"\"\n",
    "        Pre: s is a sequence\n",
    "        Post: result == length of the sequence\n",
    "        \"\"\"\n",
    "~~~~\n",
    "\n",
    "\n",
    "## Problem analysis\n",
    "\n",
    "### Alice's observation\n",
    "\n",
    "Alice notices (rather obviously) that if we split a sequence into its first item and a sequence of all the rest of the items then the length of the list is one more than the length of rest of the sequence.  For example if we hae a sequence $[a,b,c,d]$ then and split it into the first item $a$ and the rest of the sequence $[b,c,d]$, the length of the original list will be one more than the length of $[b,c,d]$.\n",
    "\n",
    "### We need a base case\n",
    "\n",
    "The empty sequence can't be split, so it must be a base case.\n"
   ]
  },
  {
   "cell_type": "markdown",
   "metadata": {},
   "source": [
    "# Your solution\n",
    "\n",
    "## Design\n",
    "\n",
    "Based on the problem analysis, we can write a design in pseudocode.  In this case the pseudocode will look a lot like Python, so you can take this step if you want or skip it if you don't.\n",
    "\n",
    "*[Put your pseudocode here]*\n",
    "\n",
    "## Analyze design\n",
    "\n",
    "Before coding, you should check that your design will work.  Here is a checklist\n",
    "\n",
    "* Is every case allowed by the precondition covered?\n",
    "* Does the code do the right thing (i.e. return a result allowed by the postcondition) in each case?\n",
    "* Is there a variant function?\n",
    "\n",
    "## Code\n",
    "\n",
    "Complete the following function\n"
   ]
  },
  {
   "cell_type": "code",
   "execution_count": 26,
   "metadata": {
    "collapsed": false
   },
   "outputs": [],
   "source": [
    "    def length( s ):\n",
    "        \"\"\"\n",
    "        Pre: s is a sequence\n",
    "        Post: result == length of the sequence\n",
    "        \"\"\""
   ]
  },
  {
   "cell_type": "markdown",
   "metadata": {},
   "source": [
    "## Analyze code\n",
    "\n",
    "If you wrote pseudocode, check that your design is consistant with the pseudocode.  If you didn't write pseudocode, use the checklist above to check your code.\n",
    "\n",
    "## Test\n",
    "\n",
    "Below are some tests. After you define the function, you can run these tests and compare the answers with expected answers above."
   ]
  },
  {
   "cell_type": "code",
   "execution_count": 27,
   "metadata": {
    "collapsed": true
   },
   "outputs": [],
   "source": [
    "length( () )"
   ]
  },
  {
   "cell_type": "code",
   "execution_count": 28,
   "metadata": {
    "collapsed": true
   },
   "outputs": [],
   "source": [
    "length( (42,) )"
   ]
  },
  {
   "cell_type": "code",
   "execution_count": 29,
   "metadata": {
    "collapsed": true
   },
   "outputs": [],
   "source": [
    "length( (6, 28, 496, 8128, 33550336, 8589869056, 137438691328, 2305843008139952128,\n",
    "         2658455991569831744654692615953842176, 191561942608236107294793378084303638130997321548169216 ) )"
   ]
  },
  {
   "cell_type": "markdown",
   "metadata": {},
   "source": [
    "# My Solution\n",
    "\n",
    "## Design\n",
    "\n",
    "Here is my pseudocode, it's included here mostly as an illustration of the notation that I use for sequences when writing pseudocode\n",
    "\n",
    "> **function** $length( s : seq<T> )$\n",
    ">> **pre** $s$ is a sequence<BR>\n",
    ">> **post** result is the length of $s$.\n",
    ">>\n",
    ">> **if** $s = [\\,]$ **then** 0<BR>\n",
    ">> **else** $1 + length( s[1,..] )$ <BR>\n",
    ">> **end if**\n",
    "\n",
    "\n",
    "## Analysis\n",
    "\n",
    "* A sequence is either empty or not, so all cases are covered\n",
    "* The code looks right for both cases.\n",
    "* The variant function is the length of the sequence $s$!\n",
    "\n",
    "Remark. This is an unusual case where the function we are computing and the variant function itself are the same thing.  Nevertheless it works.\n",
    "\n",
    "## Code\n",
    "\n",
    "And here is the Python 3 code"
   ]
  },
  {
   "cell_type": "code",
   "execution_count": 42,
   "metadata": {
    "collapsed": true
   },
   "outputs": [],
   "source": [
    " def lengthMine( s ):\n",
    "        \"\"\"\n",
    "        Pre: s is a sequence\n",
    "        Post: result == length of the sequence\n",
    "        \"\"\"\n",
    "        if isEmpty( s ) : return 0\n",
    "        else: return 1 + lengthMine( rest( s ) )"
   ]
  },
  {
   "cell_type": "markdown",
   "metadata": {},
   "source": [
    "\n",
    "## Test"
   ]
  },
  {
   "cell_type": "code",
   "execution_count": 43,
   "metadata": {
    "collapsed": false
   },
   "outputs": [
    {
     "data": {
      "text/plain": [
       "0"
      ]
     },
     "execution_count": 43,
     "metadata": {},
     "output_type": "execute_result"
    }
   ],
   "source": [
    "lengthMine( () )"
   ]
  },
  {
   "cell_type": "code",
   "execution_count": 44,
   "metadata": {
    "collapsed": false
   },
   "outputs": [
    {
     "data": {
      "text/plain": [
       "1"
      ]
     },
     "execution_count": 44,
     "metadata": {},
     "output_type": "execute_result"
    }
   ],
   "source": [
    "lengthMine( (42,) )"
   ]
  },
  {
   "cell_type": "code",
   "execution_count": 45,
   "metadata": {
    "collapsed": false,
    "scrolled": true
   },
   "outputs": [
    {
     "data": {
      "text/plain": [
       "10"
      ]
     },
     "execution_count": 45,
     "metadata": {},
     "output_type": "execute_result"
    }
   ],
   "source": [
    "lengthMine( (6, 28, 496, 8128, 33550336, 8589869056, 137438691328, 2305843008139952128,\n",
    "         2658455991569831744654692615953842176, 191561942608236107294793378084303638130997321548169216 ) )"
   ]
  },
  {
   "cell_type": "markdown",
   "metadata": {},
   "source": [
    "# Disclaimer\n",
    "\n",
    "As mentioned above, this is not a sensible way to find the length of a sequence in Python, given that there is a built in function to do the same thing.  "
   ]
  }
 ],
 "metadata": {
  "anaconda-cloud": {},
  "kernelspec": {
   "display_name": "Python [default]",
   "language": "python",
   "name": "python3"
  },
  "language_info": {
   "codemirror_mode": {
    "name": "ipython",
    "version": 3
   },
   "file_extension": ".py",
   "mimetype": "text/x-python",
   "name": "python",
   "nbconvert_exporter": "python",
   "pygments_lexer": "ipython3",
   "version": "3.5.2"
  }
 },
 "nbformat": 4,
 "nbformat_minor": 1
}
