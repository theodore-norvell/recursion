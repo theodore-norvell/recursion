{
 "cells": [
  {
   "cell_type": "markdown",
   "metadata": {},
   "source": [
    "Copyright (c) Theodore Norvell 2017. Licence: [Creative Commons Noncommercial Attribution International 4.0.](https://creativecommons.org/licenses/by-nc/4.0/)\n",
    "\n",
    "This is a Jupyter notebook. See [How to use these notes](howto.ipynb).\n",
    "\n",
    "[UP TO THE TABLE OF CONTENTS](index.ipynb)"
   ]
  },
  {
   "cell_type": "markdown",
   "metadata": {},
   "source": [
    "# Count\n",
    "\n",
    "## The problem\n",
    "\n",
    "Suppose we have a sequence of things and we want to count how many times a given element occurs. \n",
    "\n",
    "We'll represent sequences as python tuples."
   ]
  },
  {
   "cell_type": "markdown",
   "metadata": {},
   "source": [
    "### Some definitions\n",
    "\n",
    "To make the code less dependent on the details of Python, we'll make and use the following definitions."
   ]
  },
  {
   "cell_type": "code",
   "execution_count": 1,
   "metadata": {},
   "outputs": [],
   "source": [
    "def isEmpty( s ):\n",
    "    \"\"\"Pre: s is a sequence represented by a tuple\n",
    "    Post: result is true if s is empty and false otherwise\n",
    "    \"\"\"\n",
    "    assert isinstance(s, tuple)\n",
    "    return s == ()\n",
    "\n",
    "def empty():\n",
    "    \"\"\"Pre: true\n",
    "    Post: result is an empty sequence\"\"\"\n",
    "    return ()\n",
    "\n",
    "def cons( x, s ) :\n",
    "    \"\"\"Pre: s is is a sequence represented by a tuple\n",
    "    Post: result is a sequence represented by a tuple with x as its first item and s as the rest.\n",
    "    \"\"\"\n",
    "    assert isinstance(s, tuple)\n",
    "    return (x,) + s\n",
    "\n",
    "def first( s ) :\n",
    "    \"\"\"Pre: s is is a nonempty sequence represented by a tuple\n",
    "    Post: result the first item of the sequence\n",
    "    \"\"\"\n",
    "    assert isinstance(s, tuple) and s != ()\n",
    "    return s[0] \n",
    "\n",
    "def rest( s ) :\n",
    "    \"\"\"Pre: s is is a nonempty sequence represented by a tuple\n",
    "    Post: result the first item of the sequence\n",
    "    \"\"\"\n",
    "    assert isinstance(s, tuple) and s != ()\n",
    "    fst, *rst = s\n",
    "    return tuple(rst) \n",
    "\n",
    "def decons( s ) :\n",
    "    \"\"\"Pre: s is is a nonempty sequence represented by a tuple\n",
    "    Post: result is a pair consisting of the first items of s and a tuple of the rest of the items\n",
    "    \"\"\"\n",
    "    assert isinstance(s, tuple) and s != ()\n",
    "    fst, *rst = s\n",
    "    return (fst, tuple(rst))\n",
    "\n",
    "def split( s ) : # Split a sequence into two roughly equal parts.\n",
    "    \"\"\"Pre: s is is a sequence represented by a tuple\n",
    "    Post: result is a pair consisting of two tuples which, if catentated, form the origninal tuple.\n",
    "    The two parts will be the same size or differ in size by one.\n",
    "    More formally, the post condition says that there exist two tuples t and u\n",
    "    such that result == (t,u) and t+u==s and len(t)-len(u) is in {-1, 0, 1}\n",
    "    Consequence: If s is of size at least 2, the two tuples will each be smaller than s.\n",
    "    \"\"\"\n",
    "    assert isinstance(s, tuple)\n",
    "    half = len(s) // 2 \n",
    "    return (s[0:half], s[half:])\n",
    "\n",
    "def cat( s, t ) : # Concatenate two sequences\n",
    "    \"\"\"Pre: s and t are sequences represented by a tuple\n",
    "    Post: result is a tuple formed by concatenating s with t.\n",
    "    \"\"\"\n",
    "    assert isinstance(s, tuple) and isinstance(t, tuple)\n",
    "    return s+t \n",
    "    "
   ]
  },
  {
   "cell_type": "markdown",
   "metadata": {},
   "source": [
    "### A contract\n",
    "\n",
    "We write a contract for a `count` function which count the number of times an item equal to x occurs in a sequence x\n",
    "\n",
    "~~~~python\n",
    "    def count( s, x ):\n",
    "        \"\"\"\n",
    "        Pre: s is a sequence \n",
    "        Post: result == number of items in s equal to x\n",
    "        \"\"\"\n",
    "~~~~\n",
    "\n",
    "\n",
    "## Problem analysis\n",
    "\n",
    "### Alice's observation\n",
    "\n",
    "*[Put your problem analysis here.]*\n",
    "\n",
    "### We need a base case\n",
    "\n",
    "*[What is the base case?]*\n"
   ]
  },
  {
   "cell_type": "markdown",
   "metadata": {},
   "source": [
    "# Your solution\n",
    "\n",
    "## Design\n",
    "\n",
    "Based on the problem analysis, we can write a design in pseudocode.  In this case the pseudocode will look a lot like Python, so you can take this step if you want or skip it if you don't.\n",
    "\n",
    "*[Put your pseudocode here]*\n",
    "\n",
    "## Analyze design\n",
    "\n",
    "Before coding, you should check that your design will work.  Here is a checklist\n",
    "\n",
    "* Is every case allowed by the precondition covered?\n",
    "* Does the code do the right thing (i.e. return a result allowed by the postcondition) in each case?\n",
    "* Is there a variant function?\n",
    "\n",
    "## Code\n",
    "\n",
    "Complete the following function\n"
   ]
  },
  {
   "cell_type": "code",
   "execution_count": 2,
   "metadata": {},
   "outputs": [],
   "source": [
    "    def count( s, x ):\n",
    "        \"\"\"\n",
    "        Pre: s is a sequence \n",
    "        Post: result == number of items in s equal to x\n",
    "        \"\"\""
   ]
  },
  {
   "cell_type": "markdown",
   "metadata": {},
   "source": [
    "## Analyze code\n",
    "\n",
    "If you wrote pseudocode, check that your design is consistant with the pseudocode.  If you didn't write pseudocode, use the checklist above to check your code.\n",
    "\n",
    "## Test\n",
    "\n",
    "Below are some tests. After you define the function, you can run these tests and compare the answers with expected answers above."
   ]
  },
  {
   "cell_type": "code",
   "execution_count": 3,
   "metadata": {},
   "outputs": [],
   "source": [
    "count( (), 0 ) # Expect 0"
   ]
  },
  {
   "cell_type": "code",
   "execution_count": 4,
   "metadata": {},
   "outputs": [],
   "source": [
    "count( (0,), 0) # Expect 1"
   ]
  },
  {
   "cell_type": "code",
   "execution_count": 5,
   "metadata": {},
   "outputs": [],
   "source": [
    "count( (1,), 0) # Expect 0"
   ]
  },
  {
   "cell_type": "code",
   "execution_count": 6,
   "metadata": {
    "scrolled": false
   },
   "outputs": [],
   "source": [
    "count( (1,2,0,1,2,3,0,1), 1) # Expect 3"
   ]
  },
  {
   "cell_type": "code",
   "execution_count": 7,
   "metadata": {
    "scrolled": true
   },
   "outputs": [],
   "source": [
    "count( (1,2,0,1,2,3,0,1), 0) # Expect 2"
   ]
  },
  {
   "cell_type": "markdown",
   "metadata": {},
   "source": [
    "# My Solution\n",
    "\n",
    "## Design\n",
    "\n",
    "Here is my pseudocode, it's included here mostly as an illustration of the notation that I use for sequences when writing pseudocode\n",
    "\n",
    "> **function** $count\\langle T\\rangle( s : Seq\\langle T\\rangle, T x)$\n",
    ">> **pre** $s$ is a sequence<BR>\n",
    ">> **post** result is number of items in $s$ equal to $x$\n",
    ">>\n",
    ">> **if** $s = [\\,]$ **then** 0<BR>\n",
    ">> **elsif** $s(0)=x$ **then** $1 + count( s[1,..] )$ <BR>\n",
    ">> **else** $count( s[1,..] )$\n",
    ">> **end if**\n",
    "\n",
    "\n",
    "## Analysis\n",
    "\n",
    "* A sequence is either empty or not, so all cases are covered\n",
    "* The code looks right for both cases.\n",
    "* The variant function is the length of the sequence $s$!\n",
    "\n",
    "## Code\n",
    "\n",
    "And here is the Python 3 code"
   ]
  },
  {
   "cell_type": "code",
   "execution_count": 8,
   "metadata": {
    "collapsed": true
   },
   "outputs": [],
   "source": [
    "  def countMine( s, x ):\n",
    "        \"\"\"\n",
    "        Pre: s is a sequence \n",
    "        Post: result == number of items in s equal to x\n",
    "        \"\"\"\n",
    "        if isEmpty(s) : return 0\n",
    "        elif first(s) == x : return 1 + countMine( rest(s), x)\n",
    "        else:return countMine( rest(s), x)"
   ]
  },
  {
   "cell_type": "markdown",
   "metadata": {},
   "source": [
    "\n",
    "## Test"
   ]
  },
  {
   "cell_type": "code",
   "execution_count": 9,
   "metadata": {},
   "outputs": [
    {
     "data": {
      "text/plain": [
       "0"
      ]
     },
     "execution_count": 9,
     "metadata": {},
     "output_type": "execute_result"
    }
   ],
   "source": [
    "countMine( (), 0 ) # Expect 0"
   ]
  },
  {
   "cell_type": "code",
   "execution_count": 10,
   "metadata": {},
   "outputs": [
    {
     "data": {
      "text/plain": [
       "1"
      ]
     },
     "execution_count": 10,
     "metadata": {},
     "output_type": "execute_result"
    }
   ],
   "source": [
    "countMine( (0,), 0) # Expect 1"
   ]
  },
  {
   "cell_type": "code",
   "execution_count": 11,
   "metadata": {},
   "outputs": [
    {
     "data": {
      "text/plain": [
       "0"
      ]
     },
     "execution_count": 11,
     "metadata": {},
     "output_type": "execute_result"
    }
   ],
   "source": [
    "countMine( (1,), 0) # Expect 0"
   ]
  },
  {
   "cell_type": "code",
   "execution_count": 12,
   "metadata": {
    "scrolled": false
   },
   "outputs": [
    {
     "data": {
      "text/plain": [
       "3"
      ]
     },
     "execution_count": 12,
     "metadata": {},
     "output_type": "execute_result"
    }
   ],
   "source": [
    "countMine( (1,2,0,1,2,3,0,1), 1) # Expect 3"
   ]
  },
  {
   "cell_type": "code",
   "execution_count": 13,
   "metadata": {
    "scrolled": true
   },
   "outputs": [
    {
     "data": {
      "text/plain": [
       "2"
      ]
     },
     "execution_count": 13,
     "metadata": {},
     "output_type": "execute_result"
    }
   ],
   "source": [
    "countMine( (1,2,0,1,2,3,0,1), 0) # Expect 2"
   ]
  }
 ],
 "metadata": {
  "anaconda-cloud": {},
  "kernelspec": {
   "display_name": "Python [default]",
   "language": "python",
   "name": "python3"
  },
  "language_info": {
   "codemirror_mode": {
    "name": "ipython",
    "version": 3
   },
   "file_extension": ".py",
   "mimetype": "text/x-python",
   "name": "python",
   "nbconvert_exporter": "python",
   "pygments_lexer": "ipython3",
   "version": "3.5.6"
  }
 },
 "nbformat": 4,
 "nbformat_minor": 1
}
