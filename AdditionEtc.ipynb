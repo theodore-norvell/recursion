{
 "cells": [
  {
   "cell_type": "markdown",
   "metadata": {},
   "source": [
    "# Addition, multiplication, exponentiation and beyond\n",
    "\n",
    "## The problem\n",
    "\n",
    "When Alice was in school she noticed that multiplication is just repeated addition and exponentiation is just repeated multiplication. For example $x \\times 5$ is $x+x+x+x+x$ and $x^5$ is $x \\times x \\times x \\times x \\times x$.  \"Can you go further?\", she wondered to herself.  Is there a repeated exponentiation? For example, $x \\oplus 5$ could be defined as\n",
    "$$\n",
    "    (((x^x)^x)^x)^x\n",
    "$$  (This is sometimes call the tower of powers function.) And can that be repeated so that $x \\otimes 5 = (((x \\oplus x) \\oplus x) \\oplus x) \\oplus x$?\n",
    "\n",
    "What if we call $+$ the first operator, $*$ the second, exponentation the third, and so on.  Can we go on forever?\n",
    "\n",
    "Let's define a function $superOp$ so that $superOp(x,y,1) = x+y$,  $superOp(x,y,2) = x*y$,  $superOp(x,y,3) = x^y$,  $superOp(x,y,4) = x \\oplus y$, etc.\n",
    "\n",
    "### A Contract\n",
    "\n",
    "We can use the following contract\n",
    "\n",
    "~~~python\n",
    "def superOp( x, y, z )\n",
    "    \"\"\"\n",
    "    pre: y and z are integers with y >= 1 and z >= 1\n",
    "    post: If z is 1, the result is (...(x+x)+ ...)+x, with y xs.\n",
    "        And if z is 2, the result is (...(x*x)* ...)*x, with y xs\n",
    "        And if z is 3, the result (...(x to the x) to the ... ) to the x,  with y xs.\n",
    "        And if z is 4 or more the result is superOp( ... superOp( superOp(x, x, z-1), x, z-1) ..., x, z-1), with y xs.\n",
    "    \"\"\"\n",
    "~~~\n",
    "\n",
    "This is a strange looking contract, because it refers to the superOp function itself. However, because the third argument is smaller in the self referential case, this is ok: The contract actually does unambigously define a function.\n",
    "\n",
    "## Problem analysis\n",
    "\n",
    "The problem doesn't really need more analysis, since the contract is already in a recursive form.\n",
    "\n",
    "## Design\n",
    "\n",
    "### Some warm-up problems\n",
    "\n",
    "Before writing the design or code for `superOp`, I found it useful to do some warm-up problems.\n",
    "\n",
    "If you have trouble with any of the three warm-up problems, take a look at my solutions for them before attempting to code `superOp`.\n",
    "\n",
    "### Multiplication recursively\n",
    "\n",
    "Complete this function, using recursion. Use `+`, but not the `*` operator"
   ]
  },
  {
   "cell_type": "code",
   "execution_count": 28,
   "metadata": {
    "collapsed": true
   },
   "outputs": [],
   "source": [
    "def mult( x, y ) :\n",
    "    \"\"\"\n",
    "    pre: y is an integer, y >= 1\n",
    "    post: result == x * y\n",
    "    \"\"\""
   ]
  },
  {
   "cell_type": "code",
   "execution_count": 29,
   "metadata": {
    "collapsed": false,
    "scrolled": true
   },
   "outputs": [],
   "source": [
    "mult( 4,5 ) # Should give 20"
   ]
  },
  {
   "cell_type": "markdown",
   "metadata": {},
   "source": [
    "### Exponentiation\n",
    "\n",
    "Complete this function using recursion. Use your `mult` function instead of the built in `*` operator."
   ]
  },
  {
   "cell_type": "code",
   "execution_count": 30,
   "metadata": {
    "collapsed": false
   },
   "outputs": [],
   "source": [
    "def exp( x, y ) :\n",
    "    \n",
    "    \"\"\"\n",
    "    pre: y is an integer, y >= 1\n",
    "    post: result == x to the power y\n",
    "    \"\"\""
   ]
  },
  {
   "cell_type": "code",
   "execution_count": 31,
   "metadata": {
    "collapsed": false
   },
   "outputs": [],
   "source": [
    "exp( 3, 4 ) # Should give 81"
   ]
  },
  {
   "cell_type": "markdown",
   "metadata": {},
   "source": [
    "### Super exponention"
   ]
  },
  {
   "cell_type": "code",
   "execution_count": 32,
   "metadata": {
    "collapsed": true
   },
   "outputs": [],
   "source": [
    "def tower( x, y ) :\n",
    "    \n",
    "    \"\"\"\n",
    "    pre: y is an integer, y >= 1\n",
    "    post: result == ( ... ((x to the power x) to the power x) ... to the power x), with y x's\n",
    "    \"\"\""
   ]
  },
  {
   "cell_type": "code",
   "execution_count": 33,
   "metadata": {
    "collapsed": false
   },
   "outputs": [],
   "source": [
    "tower( 2, 5 ) # Should give 256"
   ]
  },
  {
   "cell_type": "markdown",
   "metadata": {},
   "source": [
    "### Design the superOp function\n",
    "\n",
    "After that warm up, it shouldn't be too hard to write the `superOp` function described in the first section"
   ]
  },
  {
   "cell_type": "code",
   "execution_count": 34,
   "metadata": {
    "collapsed": true
   },
   "outputs": [],
   "source": [
    "def superOp( x, y, z ) :\n",
    "    \"\"\"\n",
    "    pre: y and z are integers with y >= 1 and z >= 1\n",
    "    post: If z is 1, the result is (...(x+x)+ ...)+x, with y xs.\n",
    "        And if z is 2, the result is (...(x*x)* ...)*x, with y xs\n",
    "        And if z is 3, the result (...(x to the x) to the ... ) to the x,  with y xs.\n",
    "        And if z is 4 or more the result is superOp( ... superOp( superOp(x, x, z-1), x, z-1) ..., x, z-1), with y xs.\n",
    "    \"\"\"\n"
   ]
  },
  {
   "cell_type": "code",
   "execution_count": 35,
   "metadata": {
    "collapsed": false
   },
   "outputs": [],
   "source": [
    "superOp( 4, 5, 1) # Should give 20"
   ]
  },
  {
   "cell_type": "code",
   "execution_count": 36,
   "metadata": {
    "collapsed": false
   },
   "outputs": [],
   "source": [
    "superOp( 3, 4, 2 ) # Should give 81"
   ]
  },
  {
   "cell_type": "code",
   "execution_count": 37,
   "metadata": {
    "collapsed": false
   },
   "outputs": [],
   "source": [
    "superOp( 2, 5, 3) # Should give 65536"
   ]
  },
  {
   "cell_type": "code",
   "execution_count": 38,
   "metadata": {
    "collapsed": false
   },
   "outputs": [],
   "source": [
    "superOp(3, 2, 4) # Should give 19683"
   ]
  },
  {
   "cell_type": "code",
   "execution_count": 39,
   "metadata": {
    "collapsed": false,
    "scrolled": true
   },
   "outputs": [],
   "source": [
    "superOp(2,3,4) # Should give 256"
   ]
  },
  {
   "cell_type": "code",
   "execution_count": 40,
   "metadata": {
    "collapsed": false
   },
   "outputs": [],
   "source": [
    "superOp(2,2,5) # Should give 4"
   ]
  },
  {
   "cell_type": "markdown",
   "metadata": {},
   "source": [
    "You can try larger numbers, but I found that with $z=5$, larger values for $x$ and $y$ led to stack overflows."
   ]
  },
  {
   "cell_type": "markdown",
   "metadata": {},
   "source": [
    "## My design\n",
    "\n",
    "Note: I didn't bother with pseudocode for this design, because the Python is quite straight-forward.  Pseudocode would not have added anything to the discussion.\n",
    "\n",
    "### First the three warm-up problems"
   ]
  },
  {
   "cell_type": "code",
   "execution_count": 44,
   "metadata": {
    "collapsed": false
   },
   "outputs": [],
   "source": [
    "def multMine( x, y ) :\n",
    "    \"\"\"\n",
    "    pre: y is an integer, y >= 1\n",
    "    post: result == x * y\n",
    "    \"\"\"\n",
    "    assert isinstance(y, int) and y >= 1\n",
    "    if y==1: return x \n",
    "    else: return multMine( x, y-1) + x"
   ]
  },
  {
   "cell_type": "code",
   "execution_count": 45,
   "metadata": {
    "collapsed": false
   },
   "outputs": [
    {
     "data": {
      "text/plain": [
       "20"
      ]
     },
     "execution_count": 45,
     "metadata": {},
     "output_type": "execute_result"
    }
   ],
   "source": [
    "multMine( 4, 5)  # Should give 20"
   ]
  },
  {
   "cell_type": "code",
   "execution_count": 46,
   "metadata": {
    "collapsed": true
   },
   "outputs": [],
   "source": [
    "def expMine( x, y ) :\n",
    "    \n",
    "    \"\"\"\n",
    "    pre: y is an integer, y >= 1\n",
    "    post: result == x to the power y\n",
    "    \"\"\"\n",
    "    assert isinstance(y, int) and y >= 1\n",
    "    if y==1: return x\n",
    "    else: return multMine( expMine( x, y-1), x )"
   ]
  },
  {
   "cell_type": "code",
   "execution_count": 47,
   "metadata": {
    "collapsed": false
   },
   "outputs": [
    {
     "data": {
      "text/plain": [
       "81"
      ]
     },
     "execution_count": 47,
     "metadata": {},
     "output_type": "execute_result"
    }
   ],
   "source": [
    "expMine( 3, 4 ) # Should give 81"
   ]
  },
  {
   "cell_type": "code",
   "execution_count": 48,
   "metadata": {
    "collapsed": false
   },
   "outputs": [],
   "source": [
    "def towerMine( x, y ) :\n",
    "    \n",
    "    \"\"\"\n",
    "    pre: y is an integer, y >= 1\n",
    "    post: result == ( ... ((x to the power x) to the power x) ... to the power x), with y x's\n",
    "    \"\"\"\n",
    "    assert isinstance(y, int) and y >= 1\n",
    "    if y==1: return x \n",
    "    else: return expMine( towerMine( x, y-1), x ) "
   ]
  },
  {
   "cell_type": "code",
   "execution_count": 49,
   "metadata": {
    "collapsed": false
   },
   "outputs": [
    {
     "data": {
      "text/plain": [
       "65536"
      ]
     },
     "execution_count": 49,
     "metadata": {},
     "output_type": "execute_result"
    }
   ],
   "source": [
    "towerMine( 2, 5 ) # Should give 65536"
   ]
  },
  {
   "cell_type": "markdown",
   "metadata": {},
   "source": [
    "### My solution to the superOp contract"
   ]
  },
  {
   "cell_type": "code",
   "execution_count": 50,
   "metadata": {
    "collapsed": true
   },
   "outputs": [],
   "source": [
    "def superOpMine( x, y, z ) :\n",
    "    \"\"\"\n",
    "    pre: y and z are integers with y >= 1 and z >= 1\n",
    "    post: If z is 1, the result is (...(x+x)+ ...)+x, with y xs.\n",
    "        And if z is 2, the result is (...(x*x)* ...)*x, with y xs\n",
    "        And if z is 3, the result (...(x to the x) to the ... ) to the x,  with y xs.\n",
    "        And if z is 4 or more the result is superOpMine( ... superOpMine( superOpMine(x, x, z-1), x, z-1) ..., x, z-1), with y xs.\n",
    "    \"\"\"\n",
    "    assert isinstance(y, int) and y >= 1\n",
    "    if y==1: return x\n",
    "    elif z==1: return superOpMine( x, y-1, 1) + x\n",
    "    else: return superOpMine( superOpMine( x, y-1, z), x, z-1)"
   ]
  },
  {
   "cell_type": "code",
   "execution_count": 51,
   "metadata": {
    "collapsed": false
   },
   "outputs": [
    {
     "data": {
      "text/plain": [
       "20"
      ]
     },
     "execution_count": 51,
     "metadata": {},
     "output_type": "execute_result"
    }
   ],
   "source": [
    "superOpMine( 4, 5, 1) # Should give 20"
   ]
  },
  {
   "cell_type": "code",
   "execution_count": 52,
   "metadata": {
    "collapsed": false
   },
   "outputs": [
    {
     "data": {
      "text/plain": [
       "81"
      ]
     },
     "execution_count": 52,
     "metadata": {},
     "output_type": "execute_result"
    }
   ],
   "source": [
    "superOpMine( 3, 4, 2 ) # Should give 81"
   ]
  },
  {
   "cell_type": "code",
   "execution_count": 53,
   "metadata": {
    "collapsed": false
   },
   "outputs": [
    {
     "data": {
      "text/plain": [
       "65536"
      ]
     },
     "execution_count": 53,
     "metadata": {},
     "output_type": "execute_result"
    }
   ],
   "source": [
    "superOpMine( 2, 5, 3) # Should give 65536"
   ]
  },
  {
   "cell_type": "code",
   "execution_count": 54,
   "metadata": {
    "collapsed": false
   },
   "outputs": [
    {
     "data": {
      "text/plain": [
       "19683"
      ]
     },
     "execution_count": 54,
     "metadata": {},
     "output_type": "execute_result"
    }
   ],
   "source": [
    "superOpMine(3, 2, 4) # Should give 19683"
   ]
  },
  {
   "cell_type": "code",
   "execution_count": 55,
   "metadata": {
    "collapsed": false,
    "scrolled": true
   },
   "outputs": [
    {
     "data": {
      "text/plain": [
       "256"
      ]
     },
     "execution_count": 55,
     "metadata": {},
     "output_type": "execute_result"
    }
   ],
   "source": [
    "superOpMine(2,3,4) # Should give 256"
   ]
  },
  {
   "cell_type": "code",
   "execution_count": 56,
   "metadata": {
    "collapsed": false
   },
   "outputs": [
    {
     "data": {
      "text/plain": [
       "4"
      ]
     },
     "execution_count": 56,
     "metadata": {},
     "output_type": "execute_result"
    }
   ],
   "source": [
    "superOpMine(2,2,5) # Should give 4"
   ]
  },
  {
   "cell_type": "markdown",
   "metadata": {},
   "source": [
    "### Some design alternatives\n",
    "\n",
    "This one was obtained from `superOpMine` by tail-recursion elimination."
   ]
  },
  {
   "cell_type": "code",
   "execution_count": 57,
   "metadata": {
    "collapsed": false
   },
   "outputs": [],
   "source": [
    "def iterativeSuperOp( x, y, z ) :\n",
    "    \"\"\"\n",
    "    pre: y and z are integers with y >= 1 and z >= 1\n",
    "    post: If z is 1, the result is (...(x+x)+ ...)+x, with y xs.\n",
    "        And if z is 2, the result is (...(x*x)* ...)*x, with y xs\n",
    "        And if z is 3, the result (...(x to the x) to the ... ) to the x,  with y xs.\n",
    "        And if z is 4 or more the result is iterativeSuperOp( ... iterativeSuperOp( iterativeSuperOp(x, x, z-1), x, z-1) ..., x, z-1), with y xs.\n",
    "    \"\"\"\n",
    "    assert isinstance(y, int) and y >= 1\n",
    "    while y>1 and z>1:\n",
    "         x, y, z = iterativeSuperOp( x, y-1, z), x, z-1\n",
    "    if y==1 : return x\n",
    "    else: return iterativeSuperOp( x, y-1, 1) + x"
   ]
  },
  {
   "cell_type": "code",
   "execution_count": 62,
   "metadata": {
    "collapsed": false
   },
   "outputs": [
    {
     "data": {
      "text/plain": [
       "20"
      ]
     },
     "execution_count": 62,
     "metadata": {},
     "output_type": "execute_result"
    }
   ],
   "source": [
    "iterativeSuperOp( 4, 5, 1)  # Should give 20"
   ]
  },
  {
   "cell_type": "code",
   "execution_count": 63,
   "metadata": {
    "collapsed": false
   },
   "outputs": [
    {
     "data": {
      "text/plain": [
       "81"
      ]
     },
     "execution_count": 63,
     "metadata": {},
     "output_type": "execute_result"
    }
   ],
   "source": [
    "iterativeSuperOp( 3, 4, 2) # Should give 81"
   ]
  },
  {
   "cell_type": "code",
   "execution_count": 64,
   "metadata": {
    "collapsed": false
   },
   "outputs": [
    {
     "data": {
      "text/plain": [
       "65536"
      ]
     },
     "execution_count": 64,
     "metadata": {},
     "output_type": "execute_result"
    }
   ],
   "source": [
    "iterativeSuperOp( 2, 5, 3) # Should give 65536"
   ]
  },
  {
   "cell_type": "code",
   "execution_count": 65,
   "metadata": {
    "collapsed": false
   },
   "outputs": [
    {
     "data": {
      "text/plain": [
       "19683"
      ]
     },
     "execution_count": 65,
     "metadata": {},
     "output_type": "execute_result"
    }
   ],
   "source": [
    "iterativeSuperOp( 3, 2, 4 ) # Should give 19683"
   ]
  },
  {
   "cell_type": "code",
   "execution_count": 66,
   "metadata": {
    "collapsed": false
   },
   "outputs": [
    {
     "data": {
      "text/plain": [
       "256"
      ]
     },
     "execution_count": 66,
     "metadata": {},
     "output_type": "execute_result"
    }
   ],
   "source": [
    "iterativeSuperOp(2, 3, 4 ) # Should give 256"
   ]
  },
  {
   "cell_type": "code",
   "execution_count": 67,
   "metadata": {
    "collapsed": false
   },
   "outputs": [
    {
     "data": {
      "text/plain": [
       "4"
      ]
     },
     "execution_count": 67,
     "metadata": {},
     "output_type": "execute_result"
    }
   ],
   "source": [
    "iterativeSuperOp( 2, 2, 5) # Should give 4"
   ]
  },
  {
   "cell_type": "markdown",
   "metadata": {},
   "source": [
    "This one was obtained from implementing the contract in a fairly straight-forward way."
   ]
  },
  {
   "cell_type": "code",
   "execution_count": 70,
   "metadata": {
    "collapsed": true
   },
   "outputs": [],
   "source": [
    "def iterativeSuperOpPrime( x, y, z) :\n",
    "    \"\"\"\n",
    "    pre: y and z are integers with y >= 1 and z >= 1\n",
    "    post: If z is 1, the result is (...(x+x)+ ...)+x, with y xs.\n",
    "        And if z is 2, the result is (...(x*x)* ...)*x, with y xs\n",
    "        And if z is 3, the result (...(x to the x) to the ... ) to the x,  with y xs.\n",
    "        And if z is 4 or more the result is iterativeSuperOpPrime( ... iterativeSuperOpPrime( iterativeSuperOpPrime(x, x, z-1), x, z-1) ..., x, z-1), with y xs.\n",
    "    \"\"\"\n",
    "    assert isinstance(y, int) and y >= 1\n",
    "    if z==1: return x*y\n",
    "    result = x\n",
    "    while y > 1:\n",
    "        result = iterativeSuperOpPrime(result, x, z-1)\n",
    "        y = y-1\n",
    "    return result"
   ]
  },
  {
   "cell_type": "code",
   "execution_count": 71,
   "metadata": {
    "collapsed": false
   },
   "outputs": [
    {
     "data": {
      "text/plain": [
       "20"
      ]
     },
     "execution_count": 71,
     "metadata": {},
     "output_type": "execute_result"
    }
   ],
   "source": [
    "iterativeSuperOpPrime( 4, 5, 1)  # Should give 20"
   ]
  },
  {
   "cell_type": "code",
   "execution_count": 72,
   "metadata": {
    "collapsed": false
   },
   "outputs": [
    {
     "data": {
      "text/plain": [
       "81"
      ]
     },
     "execution_count": 72,
     "metadata": {},
     "output_type": "execute_result"
    }
   ],
   "source": [
    "iterativeSuperOpPrime( 3, 4, 2)  # Should give 81"
   ]
  },
  {
   "cell_type": "code",
   "execution_count": 73,
   "metadata": {
    "collapsed": false
   },
   "outputs": [
    {
     "data": {
      "text/plain": [
       "65536"
      ]
     },
     "execution_count": 73,
     "metadata": {},
     "output_type": "execute_result"
    }
   ],
   "source": [
    "iterativeSuperOpPrime( 2, 5, 3) # Should give 65536"
   ]
  },
  {
   "cell_type": "code",
   "execution_count": 74,
   "metadata": {
    "collapsed": false
   },
   "outputs": [
    {
     "data": {
      "text/plain": [
       "19683"
      ]
     },
     "execution_count": 74,
     "metadata": {},
     "output_type": "execute_result"
    }
   ],
   "source": [
    "iterativeSuperOpPrime( 3, 2, 4)   # Should give 19683"
   ]
  },
  {
   "cell_type": "code",
   "execution_count": 75,
   "metadata": {
    "collapsed": false
   },
   "outputs": [
    {
     "data": {
      "text/plain": [
       "256"
      ]
     },
     "execution_count": 75,
     "metadata": {},
     "output_type": "execute_result"
    }
   ],
   "source": [
    "iterativeSuperOpPrime( 2, 3, 4) # Should give 256"
   ]
  },
  {
   "cell_type": "code",
   "execution_count": 76,
   "metadata": {
    "collapsed": false
   },
   "outputs": [
    {
     "data": {
      "text/plain": [
       "4"
      ]
     },
     "execution_count": 76,
     "metadata": {},
     "output_type": "execute_result"
    }
   ],
   "source": [
    "iterativeSuperOpPrime( 2, 2, 5) # Should give 4"
   ]
  },
  {
   "cell_type": "markdown",
   "metadata": {},
   "source": [
    "I was actually able to compute the $x=2, y=3, z=5$ case without a stack overflow."
   ]
  },
  {
   "cell_type": "code",
   "execution_count": 77,
   "metadata": {
    "collapsed": false
   },
   "outputs": [
    {
     "data": {
      "text/plain": [
       "340282366920938463463374607431768211456"
      ]
     },
     "execution_count": 77,
     "metadata": {},
     "output_type": "execute_result"
    }
   ],
   "source": [
    "iterativeSuperOpPrime( 2, 3, 5)"
   ]
  }
 ],
 "metadata": {
  "anaconda-cloud": {},
  "kernelspec": {
   "display_name": "Python [default]",
   "language": "python",
   "name": "python3"
  },
  "language_info": {
   "codemirror_mode": {
    "name": "ipython",
    "version": 3
   },
   "file_extension": ".py",
   "mimetype": "text/x-python",
   "name": "python",
   "nbconvert_exporter": "python",
   "pygments_lexer": "ipython3",
   "version": "3.5.2"
  }
 },
 "nbformat": 4,
 "nbformat_minor": 1
}
