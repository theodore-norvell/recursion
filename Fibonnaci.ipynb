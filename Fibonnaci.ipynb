{
 "cells": [
  {
   "cell_type": "markdown",
   "metadata": {},
   "source": [
    "Copyright (c) Theodore Norvell 2017. Licence: [Creative Commons Noncommercial Attribution International 4.0.](https://creativecommons.org/licenses/by-nc/4.0/)\n",
    "\n",
    "This is a Jupyter notebook. See [How to use these notes](howto.ipynb).\n",
    "\n",
    "[UP TO THE TABLE OF CONTENTS](index.ipynb)"
   ]
  },
  {
   "cell_type": "markdown",
   "metadata": {},
   "source": [
    "# Fibonnaci\n",
    "\n",
    "## The problem\n",
    "Still in the theatre waiting for the movie to start, Alice wonders how many ways there are of putting boys and girls in the 4 seats.  (Here we ignore every aspect of a person except whether they are a boy or a girl.)  For 0 seats, there is only one way { [] } (the empty sequence). If there is one seat, we have two ways {B, G}. If there are two seats, there are 4 ways {BB, BG, GB, GG}.  If there are 3 seats there are 8 ways {BBB, BBG, BGB, BGG, GBB, GBG, GGB, GGG} and so on.  Clearly if there are n seats there are $2^n$ ways.  \n",
    "\n",
    "But, the boys never want to sit next to other boys, so she wonders how many ways you can fill 4 seats with boys and girls so that there are never two boys next to each other.\n",
    "\n",
    "### A generalization\n",
    "\n",
    "In general, the problem is how many ways are there of seating boys and girls in $n$ seats such that two boys never sit next to each other.\n",
    "\n",
    "Alice makes a table\n",
    "\n",
    "| $n$  | arrangements                                        | $count(n)$ | \n",
    "|------|-----------------------------------------------------|--------|\n",
    "| 0    |  {[]}                                               |   1    |\n",
    "| 1    |  {B, G}                                             |   2    |\n",
    "| 2    |  {BG, GB, GG}                                       |   3    |\n",
    "| 3    |  {BGB, BGG, GBG, GGB, GGG}                          |   5    |\n",
    "| 4    |  {BGBG, BGGB, BGGG, GBGB, GBGG, GGBG, GGGB, GGGG}   |   8    |\n",
    "\n",
    "She notices that each number --after the first two-- is the sum of the two previous numbers. (Why is that?)  The function from $n$ to $count(n)$ can be completely defined by three equations\n",
    "\n",
    "1. $count(0) = 1$\n",
    "2. $count(1) = 2$\n",
    "3. $count(n) = count(n-1) + count(n-2)$ for all $n$,  $n > 1$\n",
    "\n",
    "Bill points out that the count function related to the famous Fibonnaci function\n",
    "\n",
    "| n    | fib(n)  | \n",
    "|------|---------|\n",
    "| 0    |    0    |\n",
    "| 1    |    1    |\n",
    "| 2    |    1    |\n",
    "| 3    |    2    |\n",
    "| 4    |    3    |\n",
    "| 5    |    5    |\n",
    "| 6    |    8    |\n",
    "| 7    |    13   |\n",
    "\n",
    "in that $count(n) = fib(n+2)$ for all natural $n$.\n",
    "\n",
    "The Fiboannaci function has the same property: After the first two items, each item is the sum of the previous two.  It is defined by three equations:\n",
    "\n",
    "1. $fib(0) = 0$\n",
    "2. $fib(1) = 1$\n",
    "3. $fib(n) = fib(n-1) + fib(n-2)$ for all $n$,  $n > 1$\n",
    "\n",
    "\n",
    "The Fibonnaci sequence has a lot of interesting properties and applications.  You can read about some of them in [this Wikipedia entry](https://en.wikipedia.org/wiki/Fibonacci_number).\n",
    "\n",
    "### A contract\n",
    "\n",
    "We write a contract for the `fib` function.\n",
    "\n",
    "~~~~python\n",
    "    def fib( n ):\n",
    "        \"\"\"Pre: n is a natural number\n",
    "           Post: result == the value of the fibonnaci function for n where\n",
    "           this function is defined by the following three equations\n",
    "           1. fib(0) = 0\n",
    "           2. fib(1) = 1\n",
    "           3. fib(n) = fib(n-1) + fib(n-2) for all n,  n > 1\n",
    "        \"\"\"\n",
    "~~~~\n",
    "\n",
    "## Problem Analysis\n",
    "\n",
    "All the problem analysis we need is already done. That's because the definition of the Fibonnaci function is already in a recursive form, so implementing the contract recursively is just a matter of translating the contract into code."
   ]
  },
  {
   "cell_type": "markdown",
   "metadata": {},
   "source": [
    "# Your solution\n",
    "\n",
    "## Design\n",
    "\n",
    "Based on the problem analysis, we can write a design in pseudocode.  In this case the pseudocode will look a lot like Python, so you can take this step if you want, or skip it if you don't.\n",
    "\n",
    "*[Put your pseudocode here]*\n",
    "\n",
    "## Analyze design\n",
    "\n",
    "Before coding, you should check that your design will work.  Here is a checklist\n",
    "\n",
    "* Is every case allowed by the precondition covered?\n",
    "* Does the code do the right thing (i.e. return a result allowed by the postcondition) in each case?\n",
    "* Is every recursive call smaller in some sense than its parent call?\n",
    "\n",
    "## Code\n",
    "\n",
    "Complete the following function\n"
   ]
  },
  {
   "cell_type": "code",
   "execution_count": 1,
   "metadata": {
    "collapsed": false
   },
   "outputs": [],
   "source": [
    "def fib( n ):\n",
    "    \"\"\"\n",
    "    Pre: n is a natural number\n",
    "    Post: result == the value of the fibonnaci function for n where\n",
    "    this function is defined by the following three equations\n",
    "        1. fib(0) = 0\n",
    "        2. fib(1) = 1\n",
    "        3. fib(n) = fib(n-1) + fib(n-2) for all n,  n > 1\n",
    "    \"\"\""
   ]
  },
  {
   "cell_type": "markdown",
   "metadata": {},
   "source": [
    "## Analyze code\n",
    "\n",
    "If you wrote pseudocode, check that your design is consistant with the pseudocode.  If you didn't write pseudocode, use the checklist above to check your code.\n",
    "\n",
    "## Test\n",
    "\n",
    "Below are some tests. After you define the function, you can run these tests and compare the answers with expected answers above."
   ]
  },
  {
   "cell_type": "code",
   "execution_count": 2,
   "metadata": {
    "collapsed": false
   },
   "outputs": [],
   "source": [
    "fib(0)  # Expect 0"
   ]
  },
  {
   "cell_type": "code",
   "execution_count": 3,
   "metadata": {
    "collapsed": false
   },
   "outputs": [],
   "source": [
    "fib(1)  # Expect 1"
   ]
  },
  {
   "cell_type": "code",
   "execution_count": 4,
   "metadata": {
    "collapsed": false
   },
   "outputs": [],
   "source": [
    "fib(2)  # Expect 1"
   ]
  },
  {
   "cell_type": "code",
   "execution_count": 5,
   "metadata": {
    "collapsed": false
   },
   "outputs": [],
   "source": [
    "fib(3)  # Expect 2"
   ]
  },
  {
   "cell_type": "code",
   "execution_count": 6,
   "metadata": {
    "collapsed": false
   },
   "outputs": [],
   "source": [
    "fib(4)  # Expect 3"
   ]
  },
  {
   "cell_type": "code",
   "execution_count": 7,
   "metadata": {
    "collapsed": false
   },
   "outputs": [],
   "source": [
    "fib(5)  # Expect 5"
   ]
  },
  {
   "cell_type": "code",
   "execution_count": 8,
   "metadata": {
    "collapsed": true
   },
   "outputs": [],
   "source": [
    "fib(20)   # Expect 6765"
   ]
  },
  {
   "cell_type": "markdown",
   "metadata": {},
   "source": [
    "Expect the ratio of two successive large Fibonnaci numbers to be roughly the golden ratio 1.618..."
   ]
  },
  {
   "cell_type": "code",
   "execution_count": 9,
   "metadata": {
    "collapsed": false
   },
   "outputs": [
    {
     "ename": "TypeError",
     "evalue": "unsupported operand type(s) for /: 'NoneType' and 'NoneType'",
     "output_type": "error",
     "traceback": [
      "\u001b[0;31m---------------------------------------------------------------------------\u001b[0m",
      "\u001b[0;31mTypeError\u001b[0m                                 Traceback (most recent call last)",
      "\u001b[0;32m<ipython-input-9-ef4ef34fb191>\u001b[0m in \u001b[0;36m<module>\u001b[0;34m()\u001b[0m\n\u001b[0;32m----> 1\u001b[0;31m \u001b[0mfib\u001b[0m\u001b[0;34m(\u001b[0m\u001b[0;36m31\u001b[0m\u001b[0;34m)\u001b[0m\u001b[0;34m/\u001b[0m\u001b[0mfib\u001b[0m\u001b[0;34m(\u001b[0m\u001b[0;36m30\u001b[0m\u001b[0;34m)\u001b[0m\u001b[0;34m\u001b[0m\u001b[0m\n\u001b[0m",
      "\u001b[0;31mTypeError\u001b[0m: unsupported operand type(s) for /: 'NoneType' and 'NoneType'"
     ]
    }
   ],
   "source": [
    "fib(31)/fib(30)"
   ]
  },
  {
   "cell_type": "markdown",
   "metadata": {},
   "source": [
    "# My Solution\n",
    "\n",
    "## Design\n",
    "\n",
    "Here is pseudo code\n",
    "\n",
    "> **function** $fib( n : nat )$\n",
    ">> **pre** true<BR>\n",
    ">> **post** result = the value of the fibonnaci function for $n$ where\n",
    ">> this function is defined by the following three equations<BR>\n",
    ">>> $fib(0) = 0$<BR>\n",
    ">>> $fib(1) = 1$<BR>\n",
    ">>> $fib(n) = fib(n-1) + fib(n-2)$, for all $n$ such that  $n > 1$\n",
    ">>\n",
    ">> **if** $n = 0$ **then** 1<BR>\n",
    ">> | $n = 1$ **then** 1<BR>\n",
    ">> | $n > 1$ **then** fib(n-1) + fib(n-2)<BR>\n",
    ">> **end if**\n",
    "\n",
    "## Code"
   ]
  },
  {
   "cell_type": "code",
   "execution_count": 12,
   "metadata": {
    "collapsed": false
   },
   "outputs": [],
   "source": [
    "def fibMine( n ):\n",
    "    \"\"\"\n",
    "    Pre: n is a natural number\n",
    "    Post: result == the value of the fibonnaci function for n where\n",
    "    this function is defined by the following three equations\n",
    "        1. fib(0) = 0\n",
    "        2. fib(1) = 1\n",
    "        3. fib(n) = fib(n-1) + fib(n-2) for all n,  n > 1\n",
    "    \"\"\"\n",
    "    assert isinstance(n, int) and n >= 0\n",
    "    if n == 0: return 0\n",
    "    elif n==1 : return 1\n",
    "    else: return fibMine(n-1) + fibMine(n-2)"
   ]
  },
  {
   "cell_type": "markdown",
   "metadata": {},
   "source": [
    "\n",
    "## Test"
   ]
  },
  {
   "cell_type": "code",
   "execution_count": 13,
   "metadata": {
    "collapsed": false
   },
   "outputs": [
    {
     "data": {
      "text/plain": [
       "0"
      ]
     },
     "execution_count": 13,
     "metadata": {},
     "output_type": "execute_result"
    }
   ],
   "source": [
    "fibMine(0)  # Expect 0"
   ]
  },
  {
   "cell_type": "code",
   "execution_count": 14,
   "metadata": {
    "collapsed": false
   },
   "outputs": [
    {
     "data": {
      "text/plain": [
       "1"
      ]
     },
     "execution_count": 14,
     "metadata": {},
     "output_type": "execute_result"
    }
   ],
   "source": [
    "fibMine(1)  # Expect 1"
   ]
  },
  {
   "cell_type": "code",
   "execution_count": 15,
   "metadata": {
    "collapsed": false
   },
   "outputs": [
    {
     "data": {
      "text/plain": [
       "1"
      ]
     },
     "execution_count": 15,
     "metadata": {},
     "output_type": "execute_result"
    }
   ],
   "source": [
    "fibMine(2)  # Expect 1"
   ]
  },
  {
   "cell_type": "code",
   "execution_count": 16,
   "metadata": {
    "collapsed": false
   },
   "outputs": [
    {
     "data": {
      "text/plain": [
       "2"
      ]
     },
     "execution_count": 16,
     "metadata": {},
     "output_type": "execute_result"
    }
   ],
   "source": [
    "fibMine(3)  # Expect 2"
   ]
  },
  {
   "cell_type": "code",
   "execution_count": 17,
   "metadata": {
    "collapsed": false
   },
   "outputs": [
    {
     "data": {
      "text/plain": [
       "3"
      ]
     },
     "execution_count": 17,
     "metadata": {},
     "output_type": "execute_result"
    }
   ],
   "source": [
    "fibMine(4)  # Expect 3"
   ]
  },
  {
   "cell_type": "code",
   "execution_count": 18,
   "metadata": {
    "collapsed": false,
    "scrolled": true
   },
   "outputs": [
    {
     "data": {
      "text/plain": [
       "6765"
      ]
     },
     "execution_count": 18,
     "metadata": {},
     "output_type": "execute_result"
    }
   ],
   "source": [
    "fibMine(20)  # Expect 6765"
   ]
  },
  {
   "cell_type": "code",
   "execution_count": 19,
   "metadata": {
    "collapsed": false
   },
   "outputs": [
    {
     "data": {
      "text/plain": [
       "1.6180339887505408"
      ]
     },
     "execution_count": 19,
     "metadata": {},
     "output_type": "execute_result"
    }
   ],
   "source": [
    "fibMine(31)/fibMine(30) # Expect roughly the golden ratio 1.618..."
   ]
  },
  {
   "cell_type": "code",
   "execution_count": 20,
   "metadata": {
    "collapsed": false
   },
   "outputs": [
    {
     "ename": "AssertionError",
     "evalue": "",
     "output_type": "error",
     "traceback": [
      "\u001b[0;31m---------------------------------------------------------------------------\u001b[0m",
      "\u001b[0;31mAssertionError\u001b[0m                            Traceback (most recent call last)",
      "\u001b[0;32m<ipython-input-20-755210da7f13>\u001b[0m in \u001b[0;36m<module>\u001b[0;34m()\u001b[0m\n\u001b[0;32m----> 1\u001b[0;31m \u001b[0mfibMine\u001b[0m\u001b[0;34m(\u001b[0m\u001b[0;34m-\u001b[0m\u001b[0;36m1\u001b[0m\u001b[0;34m)\u001b[0m  \u001b[0;31m# Expect an assertion error.\u001b[0m\u001b[0;34m\u001b[0m\u001b[0m\n\u001b[0m",
      "\u001b[0;32m<ipython-input-12-f5cc79bf02a2>\u001b[0m in \u001b[0;36mfibMine\u001b[0;34m(n)\u001b[0m\n\u001b[1;32m      8\u001b[0m         \u001b[0;36m3.\u001b[0m \u001b[0mfib\u001b[0m\u001b[0;34m(\u001b[0m\u001b[0mn\u001b[0m\u001b[0;34m)\u001b[0m \u001b[0;34m=\u001b[0m \u001b[0mfib\u001b[0m\u001b[0;34m(\u001b[0m\u001b[0mn\u001b[0m\u001b[0;34m-\u001b[0m\u001b[0;36m1\u001b[0m\u001b[0;34m)\u001b[0m \u001b[0;34m+\u001b[0m \u001b[0mfib\u001b[0m\u001b[0;34m(\u001b[0m\u001b[0mn\u001b[0m\u001b[0;34m-\u001b[0m\u001b[0;36m2\u001b[0m\u001b[0;34m)\u001b[0m \u001b[0;32mfor\u001b[0m \u001b[0mall\u001b[0m \u001b[0mn\u001b[0m\u001b[0;34m,\u001b[0m  \u001b[0mn\u001b[0m \u001b[0;34m>\u001b[0m \u001b[0;36m1\u001b[0m\u001b[0;34m\u001b[0m\u001b[0m\n\u001b[1;32m      9\u001b[0m     \"\"\"\n\u001b[0;32m---> 10\u001b[0;31m     \u001b[0;32massert\u001b[0m \u001b[0misinstance\u001b[0m\u001b[0;34m(\u001b[0m\u001b[0mn\u001b[0m\u001b[0;34m,\u001b[0m \u001b[0mint\u001b[0m\u001b[0;34m)\u001b[0m \u001b[0;32mand\u001b[0m \u001b[0mn\u001b[0m \u001b[0;34m>=\u001b[0m \u001b[0;36m0\u001b[0m\u001b[0;34m\u001b[0m\u001b[0m\n\u001b[0m\u001b[1;32m     11\u001b[0m     \u001b[0;32mif\u001b[0m \u001b[0mn\u001b[0m \u001b[0;34m==\u001b[0m \u001b[0;36m0\u001b[0m\u001b[0;34m:\u001b[0m \u001b[0;32mreturn\u001b[0m \u001b[0;36m0\u001b[0m\u001b[0;34m\u001b[0m\u001b[0m\n\u001b[1;32m     12\u001b[0m     \u001b[0;32melif\u001b[0m \u001b[0mn\u001b[0m\u001b[0;34m==\u001b[0m\u001b[0;36m1\u001b[0m \u001b[0;34m:\u001b[0m \u001b[0;32mreturn\u001b[0m \u001b[0;36m1\u001b[0m\u001b[0;34m\u001b[0m\u001b[0m\n",
      "\u001b[0;31mAssertionError\u001b[0m: "
     ]
    }
   ],
   "source": [
    "fibMine(-1)  # Expect an assertion error."
   ]
  },
  {
   "cell_type": "markdown",
   "metadata": {},
   "source": [
    "# Going further\n",
    "\n",
    "My solution above is not very efficient.  In fact the number of call is makes is typically bigger than its result. For example computing `fibMine(5)` takes 8 calls and computing `fibMine(20)` takes over 21,000 function calls!\n",
    "\n",
    "Despite its popularity for illustrating recursion, the straight-forward way of using recursion to compute the Fibonnaci function is actually terribly inefficient.  However, we can use it as the basis for a more efficient solution.\n",
    "\n",
    "Let's use two accumulators.  One carries the value of fib(i) and the other the value of fib(i-1). In order to handle fib(0), it's helpful to define that fib(-1)=1."
   ]
  },
  {
   "cell_type": "code",
   "execution_count": 21,
   "metadata": {
    "collapsed": false
   },
   "outputs": [],
   "source": [
    "def fibWithAccumulator( n ) :\n",
    "    \"\"\"\n",
    "    Pre: n is a natural number\n",
    "    Post: result == the value of the fibonnaci function for n where\n",
    "    this function is defined by the following three equations\n",
    "        1. fib(0) = 0\n",
    "        2. fib(1) = 1\n",
    "        3. fib(n) = fib(n-1) + fib(n-2) for all n,  n > 1\n",
    "    \"\"\"\n",
    "    assert isinstance(n, int) and n >= 0\n",
    "    return fibWithAccumulatorHelper( 0, n, 1, 0 )\n",
    "\n",
    "def fibWithAccumulatorHelper( i, n, a, b):\n",
    "    \"\"\"\n",
    "    Pre n is a natural number\n",
    "        i is a natural number in {0,..,n}\n",
    "        a is fib(i-1)\n",
    "        b is fib(i)\n",
    "    Post: result == the value of the fibonnaci function for n where\n",
    "    this function is defined by the following four equations\n",
    "        0. fib(-1) = 1\n",
    "        1. fib(0) = 0\n",
    "        2. fib(1) = 1\n",
    "        3. fib(n) = fib(n-1) + fib(n-2) for all n,  n > 1\n",
    "    \"\"\"\n",
    "    if i==n : return b\n",
    "    else: return fibWithAccumulatorHelper( i+1, n, a+b, a)\n",
    "    "
   ]
  },
  {
   "cell_type": "markdown",
   "metadata": {},
   "source": [
    "## Testing"
   ]
  },
  {
   "cell_type": "code",
   "execution_count": 22,
   "metadata": {
    "collapsed": false
   },
   "outputs": [
    {
     "data": {
      "text/plain": [
       "0"
      ]
     },
     "execution_count": 22,
     "metadata": {},
     "output_type": "execute_result"
    }
   ],
   "source": [
    "fibWithAccumulator(0)  # Expect 0"
   ]
  },
  {
   "cell_type": "code",
   "execution_count": 23,
   "metadata": {
    "collapsed": false
   },
   "outputs": [
    {
     "data": {
      "text/plain": [
       "1"
      ]
     },
     "execution_count": 23,
     "metadata": {},
     "output_type": "execute_result"
    }
   ],
   "source": [
    "fibWithAccumulator(1)  # Expect 1"
   ]
  },
  {
   "cell_type": "code",
   "execution_count": 24,
   "metadata": {
    "collapsed": false
   },
   "outputs": [
    {
     "data": {
      "text/plain": [
       "1"
      ]
     },
     "execution_count": 24,
     "metadata": {},
     "output_type": "execute_result"
    }
   ],
   "source": [
    "fibWithAccumulator(2)  # Expect 1"
   ]
  },
  {
   "cell_type": "code",
   "execution_count": 25,
   "metadata": {
    "collapsed": false
   },
   "outputs": [
    {
     "data": {
      "text/plain": [
       "2"
      ]
     },
     "execution_count": 25,
     "metadata": {},
     "output_type": "execute_result"
    }
   ],
   "source": [
    "fibWithAccumulator(3)  # Expect 2"
   ]
  },
  {
   "cell_type": "code",
   "execution_count": 26,
   "metadata": {
    "collapsed": false
   },
   "outputs": [
    {
     "data": {
      "text/plain": [
       "3"
      ]
     },
     "execution_count": 26,
     "metadata": {},
     "output_type": "execute_result"
    }
   ],
   "source": [
    "fibWithAccumulator(4)  # Expect 3"
   ]
  },
  {
   "cell_type": "code",
   "execution_count": 27,
   "metadata": {
    "collapsed": false,
    "scrolled": true
   },
   "outputs": [
    {
     "data": {
      "text/plain": [
       "6765"
      ]
     },
     "execution_count": 27,
     "metadata": {},
     "output_type": "execute_result"
    }
   ],
   "source": [
    "fibWithAccumulator(20)  # Expect 6765"
   ]
  },
  {
   "cell_type": "code",
   "execution_count": 28,
   "metadata": {
    "collapsed": false
   },
   "outputs": [
    {
     "data": {
      "text/plain": [
       "1.6180339887505408"
      ]
     },
     "execution_count": 28,
     "metadata": {},
     "output_type": "execute_result"
    }
   ],
   "source": [
    "fibWithAccumulator(31)/fibWithAccumulator(30) # Expect roughly the golden ratio 1.618..."
   ]
  },
  {
   "cell_type": "code",
   "execution_count": 29,
   "metadata": {
    "collapsed": false
   },
   "outputs": [
    {
     "ename": "AssertionError",
     "evalue": "",
     "output_type": "error",
     "traceback": [
      "\u001b[0;31m---------------------------------------------------------------------------\u001b[0m",
      "\u001b[0;31mAssertionError\u001b[0m                            Traceback (most recent call last)",
      "\u001b[0;32m<ipython-input-29-26d0d4563612>\u001b[0m in \u001b[0;36m<module>\u001b[0;34m()\u001b[0m\n\u001b[0;32m----> 1\u001b[0;31m \u001b[0mfibWithAccumulator\u001b[0m\u001b[0;34m(\u001b[0m\u001b[0;34m-\u001b[0m\u001b[0;36m1\u001b[0m\u001b[0;34m)\u001b[0m \u001b[0;31m# Expect an assertion error\u001b[0m\u001b[0;34m\u001b[0m\u001b[0m\n\u001b[0m",
      "\u001b[0;32m<ipython-input-21-3666865d405a>\u001b[0m in \u001b[0;36mfibWithAccumulator\u001b[0;34m(n)\u001b[0m\n\u001b[1;32m      8\u001b[0m         \u001b[0;36m3.\u001b[0m \u001b[0mfib\u001b[0m\u001b[0;34m(\u001b[0m\u001b[0mn\u001b[0m\u001b[0;34m)\u001b[0m \u001b[0;34m=\u001b[0m \u001b[0mfib\u001b[0m\u001b[0;34m(\u001b[0m\u001b[0mn\u001b[0m\u001b[0;34m-\u001b[0m\u001b[0;36m1\u001b[0m\u001b[0;34m)\u001b[0m \u001b[0;34m+\u001b[0m \u001b[0mfib\u001b[0m\u001b[0;34m(\u001b[0m\u001b[0mn\u001b[0m\u001b[0;34m-\u001b[0m\u001b[0;36m2\u001b[0m\u001b[0;34m)\u001b[0m \u001b[0;32mfor\u001b[0m \u001b[0mall\u001b[0m \u001b[0mn\u001b[0m\u001b[0;34m,\u001b[0m  \u001b[0mn\u001b[0m \u001b[0;34m>\u001b[0m \u001b[0;36m1\u001b[0m\u001b[0;34m\u001b[0m\u001b[0m\n\u001b[1;32m      9\u001b[0m     \"\"\"\n\u001b[0;32m---> 10\u001b[0;31m     \u001b[0;32massert\u001b[0m \u001b[0misinstance\u001b[0m\u001b[0;34m(\u001b[0m\u001b[0mn\u001b[0m\u001b[0;34m,\u001b[0m \u001b[0mint\u001b[0m\u001b[0;34m)\u001b[0m \u001b[0;32mand\u001b[0m \u001b[0mn\u001b[0m \u001b[0;34m>=\u001b[0m \u001b[0;36m0\u001b[0m\u001b[0;34m\u001b[0m\u001b[0m\n\u001b[0m\u001b[1;32m     11\u001b[0m     \u001b[0;32mreturn\u001b[0m \u001b[0mfibWithAccumulatorHelper\u001b[0m\u001b[0;34m(\u001b[0m \u001b[0;36m0\u001b[0m\u001b[0;34m,\u001b[0m \u001b[0mn\u001b[0m\u001b[0;34m,\u001b[0m \u001b[0;36m1\u001b[0m\u001b[0;34m,\u001b[0m \u001b[0;36m0\u001b[0m \u001b[0;34m)\u001b[0m\u001b[0;34m\u001b[0m\u001b[0m\n\u001b[1;32m     12\u001b[0m \u001b[0;34m\u001b[0m\u001b[0m\n",
      "\u001b[0;31mAssertionError\u001b[0m: "
     ]
    }
   ],
   "source": [
    "fibWithAccumulator(-1) # Expect an assertion error"
   ]
  },
  {
   "cell_type": "markdown",
   "metadata": {
    "collapsed": true
   },
   "source": [
    "We can make this slightly more efficient by using tail recursion optimization and inlining. I won't go into the details, but the result is this function"
   ]
  },
  {
   "cell_type": "code",
   "execution_count": 30,
   "metadata": {
    "collapsed": true
   },
   "outputs": [],
   "source": [
    "def iterativeFib( n ) :\n",
    "    \"\"\"\n",
    "    Pre: n is a natural number\n",
    "    Post: result == the value of the fibonnaci function for n where\n",
    "    this function is defined by the following three equations\n",
    "        1. fib(0) = 0\n",
    "        2. fib(1) = 1\n",
    "        3. fib(n) = fib(n-1) + fib(n-2) for all n,  n > 1\n",
    "    \"\"\"\n",
    "    assert isinstance(n, int) and n >= 0\n",
    "    i, a, b = 0, 1, 0\n",
    "    #invariant: 0 <= i and i <= n and a = fib(i-1) and b = fib(i)\n",
    "    while i < n:\n",
    "        i, a, b = i+1, b, a+b\n",
    "    return b"
   ]
  },
  {
   "cell_type": "code",
   "execution_count": 31,
   "metadata": {
    "collapsed": false
   },
   "outputs": [
    {
     "data": {
      "text/plain": [
       "6765"
      ]
     },
     "execution_count": 31,
     "metadata": {},
     "output_type": "execute_result"
    }
   ],
   "source": [
    "iterativeFib( 20 )   # Expect 6765"
   ]
  }
 ],
 "metadata": {
  "anaconda-cloud": {},
  "kernelspec": {
   "display_name": "Python [default]",
   "language": "python",
   "name": "python3"
  },
  "language_info": {
   "codemirror_mode": {
    "name": "ipython",
    "version": 3
   },
   "file_extension": ".py",
   "mimetype": "text/x-python",
   "name": "python",
   "nbconvert_exporter": "python",
   "pygments_lexer": "ipython3",
   "version": "3.5.2"
  }
 },
 "nbformat": 4,
 "nbformat_minor": 1
}
