{
 "cells": [
  {
   "cell_type": "markdown",
   "metadata": {},
   "source": [
    "Copyright (c) Theodore Norvell 2017. Licence: [Creative Commons Noncommercial Attribution International 4.0.](https://creativecommons.org/licenses/by-nc/4.0/)\n",
    "\n",
    "This is a Jupyter notebook. See [How to use these notes](howto.ipynb).\n",
    "\n",
    "[UP TO THE TABLE OF CONTENTS](index.ipynb)"
   ]
  },
  {
   "cell_type": "markdown",
   "metadata": {},
   "source": [
    "# Partitions\n",
    "\n",
    "## The problem\n",
    "\n",
    "Alice decides to invite 14 friends to an unbirthday party later this month.  Unfortunately she discovers that because of their busy schedules she can't have them all over on the same day. In fact she will need to have at least 3 separate unbirthday parties in order that everyone can attend.  (Since she has at least 364 unbirthdays a year, this isn't a big problem, but on the other hand she doesn't want to throw more unbirthday parties than necessary, at least not until next month.) So she decides to have 3 unbirthday parties. She'll have to divide her set $S$ of 14 friends into 3 subsets $S_0$, $S_1$, and $S_2$ with the following properties: (a) No one can be missed, so $S_0 \\cup S_1 \\cup S_2 = S$. And (b) no one should be invited twice, so $S_0 \\cap S_1 = \\emptyset$, $S_1 \\cap S_2 = \\emptyset$, and $S_1 \\cap S_2 = \\emptyset$.  Any set of three sets $\\{S_0, S_1, S_2\\}$ with these two properties is called a partition of $S$ of size 3.  We have one more requirement, none of the 3 subsets should be empty -- since a party with no guests is hardly a party at all. Alice wonders how many ways she can partition her 14 friends into 3 nonempty subsets.\n",
    "\n",
    "### A generalization\n",
    "\n",
    "In general we'd like a way to compute the number of ways to partition a set of size $n$ into $k$ nonempty subsets. For example the set $\\{0,1,2,3\\}$ can be partioned\n",
    "\n",
    "* 1 way into a partition of size 4: $\\{\\{0\\}, \\{1\\}, \\{2\\}, \\{3\\}\\}$.\n",
    "* 6 ways into a partition of size 3: $\\{\\{0, 1\\}, \\{2\\}, \\{3\\}$, $\\{\\{1\\}, \\{0,2\\}, \\{3\\}\\}$,  $\\{\\{1\\}, \\{2\\}, \\{0,3\\}\\}$, $\\{\\{0\\}, \\{1,2\\}, \\{3\\}\\}$, $\\{\\{0\\}, \\{2\\}, \\{1, 3\\}\\}$, and $\\{\\{0\\}, \\{1\\}, \\{2,3\\}\\}$.\n",
    "* 7 ways into a partition of size 2: $\\{\\{0,1,2 \\}, \\{3\\}\\}$, $\\{\\{0, 1, 3\\}, \\{2\\} \\}$, $\\{\\{0, 2, 3\\}, \\{1\\}\\}$, $\\{\\{1,2,3\\}, \\{0\\}\\}$, $\\{\\{0,1\\}, \\{2,3\\}\\}$, $\\{\\{0,2\\}, \\{1,3\\}\\}$, and $\\{\\{0,3\\}, \\{1,2\\}\\}$.\n",
    "* 1 way into a partition of size 1: $\\{\\{0, 1, 2, 3\\}\\}$.\n",
    "* 0 ways into a parition of size 0.\n",
    "\n",
    "### A contract\n",
    "\n",
    "We write a contract for the `countPartitions` function.\n",
    "\n",
    "The contract is\n",
    "\n",
    "~~~~python\n",
    "    def countPartitions( n, k ):\n",
    "        \"\"\"\n",
    "        Pre: k and n are integers such that 0 <= k and k <= n\n",
    "        Post: result == the number of ways to partition a set of size n into k nonempty subsets.\n",
    "        \"\"\"\n",
    "~~~~\n",
    "\n",
    "## Problem analysis\n",
    "\n",
    "### Alice's observation\n",
    "\n",
    "Alice thinks about her 14 friends.  In each partition, Bill is either alone or not alone.\n",
    "\n",
    "The partitions in which Bill is alone can be obtained by adding the set $\\{B\\}$ --I'll use \"B\" for Bill-- to a partition of the 13 remaining friends into 2 nonempty subsets.  For example, from the partition:\n",
    "$$ \\{ \\{C, D, E, F, G\\}, \\{H, I, J, K, L, M, N, P\\} \\} $$\n",
    "we get a partition\n",
    "$$ \\{ \\{B\\}, \\{C, D, E, F, G\\}, \\{H, I, J, K, L, M, N, P\\} \\} $$\n",
    "\n",
    "The partitions in which Bill is not alone can be obtained by adding Bill to one of the 3 sets in a partition of the remaining 13 friends.  So each solution to partitioning 13 friends into 3 sets yields three partions of the set of 14 friends into 3 partitions.  For example the partition:\n",
    "$$ \\{ \\{C, D, E, F, G\\}, \\{H, I, J, K, L\\}, \\{M, N, P\\} \\} $$\n",
    "yields three different ways of partitioning the set of 14 friends\n",
    "$$\n",
    "   \\{ \\{B, C, D, E, F, G\\}, \\{H, I, J, K, L\\}, \\{M, N, P\\} \\}\\;\\text{,}\n",
    "\\\\ \\{ \\{C, D, E, F, G\\}, \\{B, H, I, J, K, L\\}, \\{M, N, P\\} \\}\\;\\text{, and}\n",
    "\\\\ \\{ \\{C, D, E, F, G\\}, \\{H, I, J, K, L\\}, \\{B, M, N, P\\} \\}\n",
    "$$\n",
    "The three partitions generated are different from each other and also from any partitions generated in a similar way from a different partition of the remaining 13.  And they are different from any partitions generated using the method in the previous paragraph.  [You should stop and think about why this is true.]\n",
    "\n",
    "Your turn:  Use Alice's observation to complete this equation.\n",
    "$$\n",
    "    countPartitions(n, k) = ...\n",
    "$$\n",
    "when $0 < k < n$. [Hint: $countPartitions(n-1, k-1)$ and $countPartitions(n, k-1)$ should appear on the right hand side.]\n",
    "\n",
    "### We need a base case\n",
    "\n",
    "The cases ($k=0$ and $k=n$) that aren't dealt with by this rule can be dealt with easily enough.\n",
    "\n",
    "Consider a set $S$ of size $0$. There is one partition of size 0, the empty set.\n",
    "$$\n",
    "    countPartitions(0, 0) = 1\n",
    "$$\n",
    "For a set of size $n$, with $n>0$, there are no partitions of size 0\n",
    "$$\n",
    "    countPartitions(n, 0) = 0\\text{ for all } n > 0\n",
    "$$\n",
    "there is one partition namely of size $n$, namely the partition that puts each member of $S$ on its own.\n",
    "$$\n",
    "    countPartitions(n, n) = 1\\text{ for all } n > 0\n",
    "$$\n",
    "The first rule and the third can above be combined, so altogether we have three properties\n",
    "\n",
    "1. $countPartitions(n, n) = 1$ for all $n$, $n \\ge 0$.\n",
    "2. $countPartitions(n, 0) = 0$ for all $n$, $n > 0$.\n",
    "3. $countPartitions(n, k) = ...$ for all $n$, and $r$, $0 < r < n$.\n",
    "\n",
    "### Is this a definition\n",
    "\n",
    "These three properties uniquely define the function, we can see this by induction on $n$.\n",
    "\n",
    "### Some tests\n",
    "\n",
    "Here are some values we can compute by hand\n",
    "\n",
    "n \\ k | 0 | 1 | 2 | 3 | 4 | 5 | 6\n",
    "------|---|---|---|---|---|---|---\n",
    "0     | 1 |   |   |   |   |   |\n",
    "1     | 0 | 1 |   |   |   |   |\n",
    "2     | 0 | 1 | 1 |   |   |   |\n",
    "3     | 0 | 1 | 3 | 1 |   |   |\n",
    "4     | 0 | 1 | 7 | 6 | 1 |   |\n",
    "5     | 0 | 1 |15 |25 |10 | 1 |\n",
    "6     | 0 | 1 |31 |90 |65 | 13| 1\n",
    "\n",
    "These numbers, by the way, are known as the Stirling numbers of the second kind.  You can read more about them at [this Wikipedia entry](https://en.wikipedia.org/wiki/Stirling_numbers_of_the_second_kind)."
   ]
  },
  {
   "cell_type": "markdown",
   "metadata": {},
   "source": [
    "# Your solution\n",
    "\n",
    "## Design\n",
    "\n",
    "Based on the problem analysis, we can write a design in pseudocode.  In this case the pseudocode will look a lot like Python, so you can take this step if you want or skip it if you don't."
   ]
  },
  {
   "cell_type": "markdown",
   "metadata": {},
   "source": [
    "> function ...\n",
    ">>    [Put your pseudocode here.]"
   ]
  },
  {
   "cell_type": "markdown",
   "metadata": {},
   "source": [
    "## Analyze design\n",
    "\n",
    "Before coding, you should check that your design will work.  Here is a checklist\n",
    "\n",
    "* Is every case allowed by the precondition covered?\n",
    "* Does the code do the right thing (i.e. return a result allowed by the postcondition) in each case?\n",
    "* Is every recursive call smaller in some sense than its parent call?\n",
    "\n",
    "## Code\n",
    "\n",
    "Complete the following function"
   ]
  },
  {
   "cell_type": "code",
   "execution_count": 1,
   "metadata": {
    "collapsed": false,
    "jupyter": {
     "outputs_hidden": false
    }
   },
   "outputs": [],
   "source": [
    "def countPartitions( n, k ):\n",
    "    \"\"\"\n",
    "    Pre: k and n are integers such that 0 <= k and k <= n\n",
    "    Post: result == the number of ways to partition a set of size n into k nonempty subsets.\n",
    "    \"\"\""
   ]
  },
  {
   "cell_type": "markdown",
   "metadata": {},
   "source": [
    "## Analyze your code\n",
    "\n",
    "If you wrote pseudocode, check that your design is consistant with the pseudocode.  If you didn't write pseudocode, use the checklist above to check your code.\n",
    "\n",
    "## Test your code\n",
    "\n",
    "Below are some tests. After you define the function, you can run these tests and compare the answers with expected answers above."
   ]
  },
  {
   "cell_type": "code",
   "execution_count": 1,
   "metadata": {
    "collapsed": true,
    "jupyter": {
     "outputs_hidden": true
    }
   },
   "outputs": [
    {
     "ename": "NameError",
     "evalue": "name 'countPartitions' is not defined",
     "output_type": "error",
     "traceback": [
      "\u001b[0;31m---------------------------------------------------------------------------\u001b[0m",
      "\u001b[0;31mNameError\u001b[0m                                 Traceback (most recent call last)",
      "\u001b[0;32m<ipython-input-1-4788157c8dc0>\u001b[0m in \u001b[0;36m<module>\u001b[0;34m\u001b[0m\n\u001b[0;32m----> 1\u001b[0;31m \u001b[0mcountPartitions\u001b[0m\u001b[0;34m(\u001b[0m\u001b[0;36m0\u001b[0m\u001b[0;34m,\u001b[0m \u001b[0;36m0\u001b[0m\u001b[0;34m)\u001b[0m\u001b[0;34m\u001b[0m\u001b[0;34m\u001b[0m\u001b[0m\n\u001b[0m",
      "\u001b[0;31mNameError\u001b[0m: name 'countPartitions' is not defined"
     ]
    }
   ],
   "source": [
    "countPartitions(0, 0)"
   ]
  },
  {
   "cell_type": "code",
   "execution_count": 2,
   "metadata": {
    "collapsed": true,
    "jupyter": {
     "outputs_hidden": true
    }
   },
   "outputs": [
    {
     "ename": "NameError",
     "evalue": "name 'countPartitions' is not defined",
     "output_type": "error",
     "traceback": [
      "\u001b[0;31m---------------------------------------------------------------------------\u001b[0m",
      "\u001b[0;31mNameError\u001b[0m                                 Traceback (most recent call last)",
      "\u001b[0;32m<ipython-input-2-e829b42b6b16>\u001b[0m in \u001b[0;36m<module>\u001b[0;34m\u001b[0m\n\u001b[0;32m----> 1\u001b[0;31m \u001b[0mcountPartitions\u001b[0m\u001b[0;34m(\u001b[0m\u001b[0;36m1\u001b[0m\u001b[0;34m,\u001b[0m \u001b[0;36m0\u001b[0m\u001b[0;34m)\u001b[0m\u001b[0;34m\u001b[0m\u001b[0;34m\u001b[0m\u001b[0m\n\u001b[0m",
      "\u001b[0;31mNameError\u001b[0m: name 'countPartitions' is not defined"
     ]
    }
   ],
   "source": [
    "countPartitions(1, 0)"
   ]
  },
  {
   "cell_type": "code",
   "execution_count": 4,
   "metadata": {
    "collapsed": true,
    "jupyter": {
     "outputs_hidden": true
    }
   },
   "outputs": [],
   "source": [
    "countPartitions(1, 1)"
   ]
  },
  {
   "cell_type": "code",
   "execution_count": 5,
   "metadata": {
    "collapsed": false,
    "jupyter": {
     "outputs_hidden": false
    },
    "scrolled": true
   },
   "outputs": [],
   "source": [
    "countPartitions(2, 0)"
   ]
  },
  {
   "cell_type": "code",
   "execution_count": 6,
   "metadata": {
    "collapsed": true,
    "jupyter": {
     "outputs_hidden": true
    }
   },
   "outputs": [],
   "source": [
    "countPartitions(2, 1)"
   ]
  },
  {
   "cell_type": "code",
   "execution_count": 7,
   "metadata": {
    "collapsed": true,
    "jupyter": {
     "outputs_hidden": true
    }
   },
   "outputs": [],
   "source": [
    "countPartitions(2, 2)"
   ]
  },
  {
   "cell_type": "code",
   "execution_count": 8,
   "metadata": {
    "collapsed": true,
    "jupyter": {
     "outputs_hidden": true
    }
   },
   "outputs": [],
   "source": [
    "countPartitions(2, 0)"
   ]
  },
  {
   "cell_type": "markdown",
   "metadata": {},
   "source": [
    "Now let's compare your answers with the first 7 rows of our table"
   ]
  },
  {
   "cell_type": "code",
   "execution_count": 9,
   "metadata": {
    "collapsed": false,
    "jupyter": {
     "outputs_hidden": false
    }
   },
   "outputs": [
    {
     "name": "stdout",
     "output_type": "stream",
     "text": [
      "S( 0 , 0 ) = None \n",
      "S( 1 , 0 ) = None S( 1 , 1 ) = None \n",
      "S( 2 , 0 ) = None S( 2 , 1 ) = None S( 2 , 2 ) = None \n",
      "S( 3 , 0 ) = None S( 3 , 1 ) = None S( 3 , 2 ) = None S( 3 , 3 ) = None \n",
      "S( 4 , 0 ) = None S( 4 , 1 ) = None S( 4 , 2 ) = None S( 4 , 3 ) = None S( 4 , 4 ) = None \n",
      "S( 5 , 0 ) = None S( 5 , 1 ) = None S( 5 , 2 ) = None S( 5 , 3 ) = None S( 5 , 4 ) = None S( 5 , 5 ) = None \n",
      "S( 6 , 0 ) = None S( 6 , 1 ) = None S( 6 , 2 ) = None S( 6 , 3 ) = None S( 6 , 4 ) = None S( 6 , 5 ) = None S( 6 , 6 ) = None \n",
      "FAILED on these inputs:  {(6, 6), (3, 0), (2, 1), (6, 2), (5, 1), (4, 0), (3, 3), (5, 5), (4, 4), (6, 3), (5, 0), (2, 2), (4, 1), (1, 1), (6, 4), (3, 2), (0, 0), (5, 4), (6, 0), (4, 2), (1, 0), (6, 5), (5, 3), (6, 1), (3, 1), (2, 0), (4, 3), (5, 2)}\n"
     ]
    }
   ],
   "source": [
    "s2 = [ [1],\n",
    "       [0, 1],\n",
    "       [0, 1, 1],\n",
    "       [0, 1, 3, 1],\n",
    "       [0, 1, 7, 6, 1],\n",
    "       [0, 1, 15, 25, 10, 1],\n",
    "       [0, 1, 31, 90, 65, 15, 1]]\n",
    "failures = set()\n",
    "for n in range(0, 7) :\n",
    "    for r in range(0, n+1):\n",
    "        result = countPartitions(n,r)\n",
    "        print(\"S(\", n, \",\", r, \") =\", result, end=\" \" )\n",
    "        if result != s2[n][r]: failures.add( (n, r) ) \n",
    "    print()\n",
    "if len(failures) == 0 : print( \"PASSED\")\n",
    "else: print( \"FAILED on these inputs: \", failures )"
   ]
  },
  {
   "cell_type": "markdown",
   "metadata": {},
   "source": [
    "# My Solution\n",
    "\n",
    "## Design\n",
    "\n",
    "Here is my pseudo code\n",
    "\n",
    "> **function** $countPartitions( n : nat, k: nat ) $\n",
    ">> **pre** $0 \\le k \\le n$<BR>\n",
    ">> **post** result = the number of ways to partition a set of size $n$ into $k$ nonempty subsets\n",
    ">>\n",
    ">> **if**\n",
    ">>\n",
    ">>> $0 = k = n$ **then** 1\n",
    ">>\n",
    ">>> $0 = k < n$ **then** 0\n",
    ">>\n",
    ">>> $0 < k = n$ **then** 1\n",
    ">>\n",
    ">>> $0 < k < n$ **then**\n",
    ">>>>   $countPartitions( n-1, k-1)$ $+$ $k \\times countPartitions( n-1, k)$<BR>\n",
    ">>   \n",
    ">> **end if**\n",
    "\n",
    "## Code\n",
    "\n",
    "And here is the Python 3 code"
   ]
  },
  {
   "cell_type": "code",
   "execution_count": 18,
   "metadata": {
    "collapsed": true,
    "jupyter": {
     "outputs_hidden": true
    }
   },
   "outputs": [],
   "source": [
    "def countPartitionsMine( n, k ):\n",
    "    \"\"\"\n",
    "    Pre: k and n are integers such that 0 <= k and k <= n\n",
    "    Post: result == the number of ways to partition a set of size n into k nonempty subsets.\n",
    "    \"\"\"\n",
    "    assert isinstance(n, int) and n >= 0\n",
    "    assert isinstance(k, int) and 0 <= k and k <= n\n",
    "    if k == n : return 1\n",
    "    elif k == 0: return 0\n",
    "    else: return countPartitionsMine(n-1, k-1) + k*countPartitionsMine(n-1, k)"
   ]
  },
  {
   "cell_type": "markdown",
   "metadata": {},
   "source": [
    "\n",
    "## Test"
   ]
  },
  {
   "cell_type": "code",
   "execution_count": 19,
   "metadata": {
    "collapsed": false,
    "jupyter": {
     "outputs_hidden": false
    }
   },
   "outputs": [
    {
     "data": {
      "text/plain": [
       "1"
      ]
     },
     "execution_count": 19,
     "metadata": {},
     "output_type": "execute_result"
    }
   ],
   "source": [
    "countPartitionsMine(0, 0)"
   ]
  },
  {
   "cell_type": "code",
   "execution_count": 20,
   "metadata": {
    "collapsed": false,
    "jupyter": {
     "outputs_hidden": false
    }
   },
   "outputs": [
    {
     "data": {
      "text/plain": [
       "0"
      ]
     },
     "execution_count": 20,
     "metadata": {},
     "output_type": "execute_result"
    }
   ],
   "source": [
    "countPartitionsMine(4, 0)"
   ]
  },
  {
   "cell_type": "code",
   "execution_count": 21,
   "metadata": {
    "collapsed": false,
    "jupyter": {
     "outputs_hidden": false
    }
   },
   "outputs": [
    {
     "data": {
      "text/plain": [
       "1"
      ]
     },
     "execution_count": 21,
     "metadata": {},
     "output_type": "execute_result"
    }
   ],
   "source": [
    "countPartitionsMine(4, 1)"
   ]
  },
  {
   "cell_type": "code",
   "execution_count": 22,
   "metadata": {
    "collapsed": false,
    "jupyter": {
     "outputs_hidden": false
    }
   },
   "outputs": [
    {
     "data": {
      "text/plain": [
       "7"
      ]
     },
     "execution_count": 22,
     "metadata": {},
     "output_type": "execute_result"
    }
   ],
   "source": [
    "countPartitionsMine(4, 2)"
   ]
  },
  {
   "cell_type": "code",
   "execution_count": 23,
   "metadata": {
    "collapsed": false,
    "jupyter": {
     "outputs_hidden": false
    }
   },
   "outputs": [
    {
     "data": {
      "text/plain": [
       "6"
      ]
     },
     "execution_count": 23,
     "metadata": {},
     "output_type": "execute_result"
    }
   ],
   "source": [
    "countPartitionsMine(4, 3)"
   ]
  },
  {
   "cell_type": "code",
   "execution_count": 24,
   "metadata": {
    "collapsed": false,
    "jupyter": {
     "outputs_hidden": false
    }
   },
   "outputs": [
    {
     "data": {
      "text/plain": [
       "1"
      ]
     },
     "execution_count": 24,
     "metadata": {},
     "output_type": "execute_result"
    }
   ],
   "source": [
    "countPartitionsMine(4, 4)"
   ]
  },
  {
   "cell_type": "markdown",
   "metadata": {},
   "source": [
    "Next we'll compare with the whole table"
   ]
  },
  {
   "cell_type": "code",
   "execution_count": 25,
   "metadata": {
    "collapsed": false,
    "jupyter": {
     "outputs_hidden": false
    }
   },
   "outputs": [
    {
     "name": "stdout",
     "output_type": "stream",
     "text": [
      "S( 0 , 0 ) = 1 \n",
      "S( 1 , 0 ) = 0 S( 1 , 1 ) = 1 \n",
      "S( 2 , 0 ) = 0 S( 2 , 1 ) = 1 S( 2 , 2 ) = 1 \n",
      "S( 3 , 0 ) = 0 S( 3 , 1 ) = 1 S( 3 , 2 ) = 3 S( 3 , 3 ) = 1 \n",
      "S( 4 , 0 ) = 0 S( 4 , 1 ) = 1 S( 4 , 2 ) = 7 S( 4 , 3 ) = 6 S( 4 , 4 ) = 1 \n",
      "S( 5 , 0 ) = 0 S( 5 , 1 ) = 1 S( 5 , 2 ) = 15 S( 5 , 3 ) = 25 S( 5 , 4 ) = 10 S( 5 , 5 ) = 1 \n",
      "S( 6 , 0 ) = 0 S( 6 , 1 ) = 1 S( 6 , 2 ) = 31 S( 6 , 3 ) = 90 S( 6 , 4 ) = 65 S( 6 , 5 ) = 15 S( 6 , 6 ) = 1 \n",
      "PASSED\n"
     ]
    }
   ],
   "source": [
    "s2 = [ [1], [0, 1], [0, 1, 1], [0, 1, 3, 1], [0, 1, 7, 6, 1], [0, 1, 15, 25, 10, 1], [0, 1, 31, 90, 65, 15, 1]]\n",
    "failures = set()\n",
    "for n in range(0, 7) :\n",
    "    for r in range(0, n+1):\n",
    "        result = countPartitionsMine(n,r)\n",
    "        print(\"S(\", n, \",\", r, \") =\", result, end=\" \" )\n",
    "        if result != s2[n][r]: failures.add( (n, r) ) \n",
    "    print()\n",
    "if len(failures) == 0 : print( \"PASSED\")\n",
    "else: print( \"FAILED on these inputs: \", failures )"
   ]
  },
  {
   "cell_type": "markdown",
   "metadata": {},
   "source": [
    "# Going further\n",
    "\n",
    "As with combinations, the straightforward recursive solution that I've used is very inefficient.  I'm going to ignore this problem for now.  The point of these exercises is to get comfortable with creating correct recursive solutions without worrying about efficiency.  Later we'll come back to the problem of making this solution efficient by using a technique called \"memoization\"."
   ]
  }
 ],
 "metadata": {
  "anaconda-cloud": {},
  "kernelspec": {
   "display_name": "Python 3",
   "language": "python",
   "name": "python3"
  },
  "language_info": {
   "codemirror_mode": {
    "name": "ipython",
    "version": 3
   },
   "file_extension": ".py",
   "mimetype": "text/x-python",
   "name": "python",
   "nbconvert_exporter": "python",
   "pygments_lexer": "ipython3",
   "version": "3.8.5"
  }
 },
 "nbformat": 4,
 "nbformat_minor": 4
}
