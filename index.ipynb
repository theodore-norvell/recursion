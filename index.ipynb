{
 "cells": [
  {
   "cell_type": "markdown",
   "metadata": {},
   "source": [
    "Copyright (c) Theodore Norvell 2017. Licence: [Creative Commons Noncommercial Attribution International 4.0.](https://creativecommons.org/licenses/by-nc/4.0/)\n",
    "    \n",
    "# Recursion: A love story\n",
    "\n",
    "## Contents\n",
    "\n",
    "* [Introduction](intro.html)\n",
    "* [How to use these notes](howto.html)\n",
    "\n",
    "### Counting\n",
    "\n",
    "* Factorial [HTML](Factorial.html) [Notebook](Factorial.ipynb)\n",
    "* Fibonnaci Numbers [HTML](Fibonnaci.html) [Notebook](Fibonnaci.ipynb)\n",
    "* Combinations [HTML](Combinations.html) [Notebook](Combinations.ipynb)\n",
    "* Partitions [HTML](Partitions.html) [Notebook](Partitions.ipynb)\n",
    "* Addition, multiplication, exponentiation and beyond [HTML](AdditionEtc.html) [Notebook](AdditionEtc.ipynb)\n",
    "* Intermezzo on variants ....\n",
    "\n",
    "### "
   ]
  },
  {
   "cell_type": "code",
   "execution_count": null,
   "metadata": {
    "collapsed": true
   },
   "outputs": [],
   "source": []
  }
 ],
 "metadata": {
  "anaconda-cloud": {},
  "kernelspec": {
   "display_name": "Python [default]",
   "language": "python",
   "name": "python3"
  },
  "language_info": {
   "codemirror_mode": {
    "name": "ipython",
    "version": 3
   },
   "file_extension": ".py",
   "mimetype": "text/x-python",
   "name": "python",
   "nbconvert_exporter": "python",
   "pygments_lexer": "ipython3",
   "version": "3.5.2"
  }
 },
 "nbformat": 4,
 "nbformat_minor": 1
}
