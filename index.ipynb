{
 "cells": [
  {
   "cell_type": "markdown",
   "metadata": {},
   "source": [
    "Copyright (c) Theodore Norvell 2017-2021. Licence: [Creative Commons Noncommercial Attribution International 4.0.](https://creativecommons.org/licenses/by-nc/4.0/)\n",
    "    \n",
    "# Recursion Wonderland\n",
    "\n",
    "## Contents\n",
    "\n",
    "\n",
    "* [Introduction](intro.ipynb)\n",
    "* [How to use these notes](howto.ipynb)\n",
    "\n",
    "### Counting\n",
    "\n",
    "* [Factorial](Factorial.ipynb)\n",
    "* [Fibonnaci Numbers](Fibonnaci.ipynb)\n",
    "* [Combinations](Combinations.ipynb)\n",
    "* [Partitions](Partitions.ipynb)\n",
    "* [Addition, multiplication, exponentiation and beyond](AdditionEtc.ipynb)\n",
    "* [Intermezzo on variants](Intermezzo-on-variants.ipynb)\n",
    "\n",
    "### Sequences\n",
    "\n",
    "* [Length of a sequence](Sequence-Length.ipynb)\n",
    "* [Count items in a sequence](Count.ipynb)"
   ]
  },
  {
   "cell_type": "code",
   "execution_count": null,
   "metadata": {
    "collapsed": true
   },
   "outputs": [],
   "source": []
  }
 ],
 "metadata": {
  "anaconda-cloud": {},
  "kernelspec": {
   "display_name": "Python [default]",
   "language": "python",
   "name": "python3"
  },
  "language_info": {
   "codemirror_mode": {
    "name": "ipython",
    "version": 3
   },
   "file_extension": ".py",
   "mimetype": "text/x-python",
   "name": "python",
   "nbconvert_exporter": "python",
   "pygments_lexer": "ipython3",
   "version": "3.5.6"
  }
 },
 "nbformat": 4,
 "nbformat_minor": 4
}
