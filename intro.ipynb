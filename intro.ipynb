{
 "cells": [
  {
   "cell_type": "markdown",
   "metadata": {},
   "source": [
    "Copyright (c) Theodore Norvell 2017. Licence: [Creative Commons Noncommercial Attribution International 4.0.](https://creativecommons.org/licenses/by-nc/4.0/)\n",
    "\n",
    "This is a Jupyter notebook. See [How to use these notes](howto.ipynb)."
   ]
  },
  {
   "cell_type": "markdown",
   "metadata": {},
   "source": [
    "[Table of contents](index.ipynb) || ==[How to use these notes](howto.ipynb)==>"
   ]
  },
  {
   "cell_type": "markdown",
   "metadata": {},
   "source": [
    "# Introduction\n",
    "\n",
    "Recursion is a very useful technique in many applications and forms the basis of efficient solutions using techniques such as memoization and dynamic programming.\n",
    "\n",
    "It's also elegant and beautiful.\n",
    "\n",
    "These notes are a sequence of exercises to help you to get used to thinking up recursive solutions to algorithmic problems.\n",
    "\n",
    "The thing about exercises is that watching someone else do them doesn't help you much.  So I encourage you to actually try to fill in all the missing parts before looking at my solutions."
   ]
  },
  {
   "cell_type": "markdown",
   "metadata": {},
   "source": [
    "## The design process\n",
    "\n",
    "Each page in these notes illustrates the same design process for arriving at a solution.  Most of the steps of this process aren't just good for applying recursion, but really for any programming problem that you come across.  In day to day practice you may, do some of the steps in your head without writing anything down, however it's rarely a good idea not to skip any steps, even if you just do them in your head.  The process is this\n",
    "\n",
    "* The Problem\n",
    "  * Write down clearly what the problem to be solved is.\n",
    "  * If need be, generalize the problem.\n",
    "  * Write a program contract.\n",
    "* Analyse the problem\n",
    "  * Recursive cases: Understand how solutions to smaller instances can be used to build solutions to larger instances.\n",
    "  * Base cases: Make sure that instances too small to be broken down further are understood.\n",
    "  * Check that there is no circularity by identifying the variant.\n",
    "  * Write some test cases.\n",
    "* The solution\n",
    "  * Write your algorithm in pseudo-code.\n",
    "  * Analyse the algorithm to ensure it follows your analysis of the problem.\n",
    "  * Write the code\n",
    "  * Check the code against the pseudo-code.\n",
    "  * Test the code.\n",
    "\n",
    "In most of these excersises I've done some of the steps.  As the exercises go on, I'll leave more and more steps out.  You should fill in the missing steps."
   ]
  },
  {
   "cell_type": "markdown",
   "metadata": {},
   "source": [
    "## Using Python and/or Jupyter Notebook\n",
    "\n",
    "I did all my coding in Python 3.5.  You are welcome to use any language you want.  It may be easiest to use Python, since my examples are in Python and my contracts are written in terms of Python's data types, but you can adapt the examples to any high-level language that you want.\n",
    "\n",
    "The reasons I choose to use Python are several:\n",
    "\n",
    "* It's a widely used language.\n",
    "* It has direct support for sets and sequences.\n",
    "* It works well with Jupyter Notbook -- I'll explain what that is later.\n",
    "* I wanted to learn to use Python better.\n",
    "\n",
    "A nice surprise about Python was that it supports large integers natively. A less pleasant surprise was that, by default, Python limits recursion depth to a low number (1000 in my implementation); there are ways to increase this limit, but you risk crashing the interpreter if you increase it too much.\n",
    "\n",
    "If you don't know Python, but want to use it anyway, it's really important to explicitly write out your pseudocode. That way you can think about the algoirthm without having to worry about the language, and then, later, figure our how to translate your algorithm into Python without having to worry about the design.\n",
    "\n",
    "Jupyter notebook is a web application that lets you easily write web pages that contain code and also to execute that code and put the results into the web page.  I'll say more about Jupyter Notebook on the next page."
   ]
  },
  {
   "cell_type": "markdown",
   "metadata": {},
   "source": [
    "## A note on pseudocode notation\n",
    "\n",
    "What notation you use for peudocode isn't that important.  I have my own notation which is explained in two documents:\n",
    "\n",
    "* [Algorithmic notations](http://www.engr.mun.ca/~theo/Courses/AlgCoCo/6892-downloads/notations.pdf).\n",
    "* [Discrete math notations](http://www.engr.mun.ca/~theo/Courses/AlgCoCo/6892-downloads/alg-co-co-notes-000-discrete-math-review.pdf)\n",
    "\n",
    "I mention these documents mostly to help you understand my solutions, but you are free to adopt any aspects of my notation that you want.\n",
    "\n",
    "### Immutable types\n",
    "\n",
    "I would encourage you to use immutable data types (sets and sequences) as much as possible. This keeps things simple.  We can optimize later by using mutable data types if needed.\n",
    "\n",
    "What do I mean by immutable and mutable.  Here is an illustration in Python.  Python has two native types for representing sequences: **lists** which are mutable and **tuples** which are immutable.  Here we'll add an item to the right end of a sequence in two ways.\n",
    "\n",
    "First using lists."
   ]
  },
  {
   "cell_type": "code",
   "execution_count": 4,
   "metadata": {
    "collapsed": false,
    "jupyter": {
     "outputs_hidden": false
    }
   },
   "outputs": [
    {
     "data": {
      "text/plain": [
       "[1, 2, 3, 4]"
      ]
     },
     "execution_count": 4,
     "metadata": {},
     "output_type": "execute_result"
    }
   ],
   "source": [
    "seq = [1,2,3]\n",
    "seq.append(4)\n",
    "seq"
   ]
  },
  {
   "cell_type": "markdown",
   "metadata": {},
   "source": [
    "Now using tuples.  (By the way, the funny looking `(4,)` is a tuple of length one."
   ]
  },
  {
   "cell_type": "code",
   "execution_count": 5,
   "metadata": {
    "collapsed": false,
    "jupyter": {
     "outputs_hidden": false
    }
   },
   "outputs": [
    {
     "data": {
      "text/plain": [
       "(1, 2, 3, 4)"
      ]
     },
     "execution_count": 5,
     "metadata": {},
     "output_type": "execute_result"
    }
   ],
   "source": [
    "seq = (1,2,3)\n",
    "seq = seq + (4,)\n",
    "seq"
   ]
  },
  {
   "cell_type": "markdown",
   "metadata": {},
   "source": [
    "These look quite similar.  But there is a significant difference. The `append` method changes (mutates) the list.  Whereas the `+` (concatenate) operator creates a new tuple. This difference becomes important when there is more than one reference to the sequence, as illustrated below.\n",
    "\n",
    "First using mutable lists."
   ]
  },
  {
   "cell_type": "code",
   "execution_count": 6,
   "metadata": {
    "collapsed": false,
    "jupyter": {
     "outputs_hidden": false
    }
   },
   "outputs": [
    {
     "data": {
      "text/plain": [
       "[1, 2, 3, 4]"
      ]
     },
     "execution_count": 6,
     "metadata": {},
     "output_type": "execute_result"
    }
   ],
   "source": [
    "anotherSeq = [1,2,3]\n",
    "seq = anotherSeq \n",
    "seq.append(4)\n",
    "seq"
   ]
  },
  {
   "cell_type": "code",
   "execution_count": 7,
   "metadata": {
    "collapsed": false,
    "jupyter": {
     "outputs_hidden": false
    }
   },
   "outputs": [
    {
     "data": {
      "text/plain": [
       "[1, 2, 3, 4]"
      ]
     },
     "execution_count": 7,
     "metadata": {},
     "output_type": "execute_result"
    }
   ],
   "source": [
    "anotherSeq"
   ]
  },
  {
   "cell_type": "markdown",
   "metadata": {},
   "source": [
    "Now using immutable tuples."
   ]
  },
  {
   "cell_type": "code",
   "execution_count": 8,
   "metadata": {
    "collapsed": false,
    "jupyter": {
     "outputs_hidden": false
    }
   },
   "outputs": [
    {
     "data": {
      "text/plain": [
       "(1, 2, 3, 4)"
      ]
     },
     "execution_count": 8,
     "metadata": {},
     "output_type": "execute_result"
    }
   ],
   "source": [
    "anotherSeq = (1,2,3)\n",
    "seq = anotherSeq\n",
    "seq = seq + (4,)\n",
    "seq"
   ]
  },
  {
   "cell_type": "code",
   "execution_count": 9,
   "metadata": {
    "collapsed": false,
    "jupyter": {
     "outputs_hidden": false
    }
   },
   "outputs": [
    {
     "data": {
      "text/plain": [
       "(1, 2, 3)"
      ]
     },
     "execution_count": 9,
     "metadata": {},
     "output_type": "execute_result"
    }
   ],
   "source": [
    "anotherSeq"
   ]
  },
  {
   "cell_type": "markdown",
   "metadata": {},
   "source": [
    "The way we get multiple references is usually by passing arguments to parameters like this."
   ]
  },
  {
   "cell_type": "code",
   "execution_count": 10,
   "metadata": {
    "collapsed": false,
    "jupyter": {
     "outputs_hidden": false
    }
   },
   "outputs": [
    {
     "data": {
      "text/plain": [
       "[1, 2, 3, 4]"
      ]
     },
     "execution_count": 10,
     "metadata": {},
     "output_type": "execute_result"
    }
   ],
   "source": [
    "def append4( seq ) :\n",
    "    seq.append(4) \n",
    "    return seq\n",
    "\n",
    "a = [1,2,3]\n",
    "append4(a)"
   ]
  },
  {
   "cell_type": "markdown",
   "metadata": {},
   "source": [
    "But now we have the (possibly unintended) side effect of changing the value of `a`."
   ]
  },
  {
   "cell_type": "code",
   "execution_count": 11,
   "metadata": {
    "collapsed": false,
    "jupyter": {
     "outputs_hidden": false
    }
   },
   "outputs": [
    {
     "data": {
      "text/plain": [
       "[1, 2, 3, 4]"
      ]
     },
     "execution_count": 11,
     "metadata": {},
     "output_type": "execute_result"
    }
   ],
   "source": [
    "a"
   ]
  },
  {
   "cell_type": "markdown",
   "metadata": {},
   "source": [
    "Using immutable sequences prevents side effects like this. If I write."
   ]
  },
  {
   "cell_type": "code",
   "execution_count": 12,
   "metadata": {},
   "outputs": [],
   "source": [
    "a = (1,2,3)"
   ]
  },
  {
   "cell_type": "markdown",
   "metadata": {},
   "source": [
    "the only way that `a`'s value can change is if I assign to `a`.  For example, I can't change it by calling `append4` because that will lead to an error."
   ]
  },
  {
   "cell_type": "code",
   "execution_count": 13,
   "metadata": {
    "collapsed": false,
    "jupyter": {
     "outputs_hidden": false
    }
   },
   "outputs": [
    {
     "ename": "AttributeError",
     "evalue": "'tuple' object has no attribute 'append'",
     "output_type": "error",
     "traceback": [
      "\u001b[0;31m---------------------------------------------------------------------------\u001b[0m",
      "\u001b[0;31mAttributeError\u001b[0m                            Traceback (most recent call last)",
      "\u001b[0;32m<ipython-input-13-a1cd54e278f5>\u001b[0m in \u001b[0;36m<module>\u001b[0;34m()\u001b[0m\n\u001b[0;32m----> 1\u001b[0;31m \u001b[0mappend4\u001b[0m\u001b[0;34m(\u001b[0m\u001b[0ma\u001b[0m\u001b[0;34m)\u001b[0m\u001b[0;34m\u001b[0m\u001b[0m\n\u001b[0m",
      "\u001b[0;32m<ipython-input-10-03cabd4ef68e>\u001b[0m in \u001b[0;36mappend4\u001b[0;34m(seq)\u001b[0m\n\u001b[1;32m      1\u001b[0m \u001b[0;32mdef\u001b[0m \u001b[0mappend4\u001b[0m\u001b[0;34m(\u001b[0m \u001b[0mseq\u001b[0m \u001b[0;34m)\u001b[0m \u001b[0;34m:\u001b[0m\u001b[0;34m\u001b[0m\u001b[0m\n\u001b[0;32m----> 2\u001b[0;31m     \u001b[0mseq\u001b[0m\u001b[0;34m.\u001b[0m\u001b[0mappend\u001b[0m\u001b[0;34m(\u001b[0m\u001b[0;36m4\u001b[0m\u001b[0;34m)\u001b[0m\u001b[0;34m\u001b[0m\u001b[0m\n\u001b[0m\u001b[1;32m      3\u001b[0m     \u001b[0;32mreturn\u001b[0m \u001b[0mseq\u001b[0m\u001b[0;34m\u001b[0m\u001b[0m\n\u001b[1;32m      4\u001b[0m \u001b[0;34m\u001b[0m\u001b[0m\n\u001b[1;32m      5\u001b[0m \u001b[0ma\u001b[0m \u001b[0;34m=\u001b[0m \u001b[0;34m[\u001b[0m\u001b[0;36m1\u001b[0m\u001b[0;34m,\u001b[0m\u001b[0;36m2\u001b[0m\u001b[0;34m,\u001b[0m\u001b[0;36m3\u001b[0m\u001b[0;34m]\u001b[0m\u001b[0;34m\u001b[0m\u001b[0m\n",
      "\u001b[0;31mAttributeError\u001b[0m: 'tuple' object has no attribute 'append'"
     ]
    }
   ],
   "source": [
    "append4(a)"
   ]
  },
  {
   "cell_type": "code",
   "execution_count": 14,
   "metadata": {
    "collapsed": false,
    "jupyter": {
     "outputs_hidden": false
    }
   },
   "outputs": [
    {
     "data": {
      "text/plain": [
       "(1, 2, 3)"
      ]
     },
     "execution_count": 14,
     "metadata": {},
     "output_type": "execute_result"
    }
   ],
   "source": [
    "a"
   ]
  },
  {
   "cell_type": "markdown",
   "metadata": {},
   "source": [
    "Let's try"
   ]
  },
  {
   "cell_type": "code",
   "execution_count": 15,
   "metadata": {
    "collapsed": true,
    "jupyter": {
     "outputs_hidden": true
    }
   },
   "outputs": [],
   "source": [
    "def concatenate4( seq ) :\n",
    "    seq = seq + (4,)\n",
    "    return seq"
   ]
  },
  {
   "cell_type": "code",
   "execution_count": 28,
   "metadata": {
    "collapsed": false,
    "jupyter": {
     "outputs_hidden": false
    }
   },
   "outputs": [
    {
     "data": {
      "text/plain": [
       "(1, 2, 3, 4)"
      ]
     },
     "execution_count": 28,
     "metadata": {},
     "output_type": "execute_result"
    }
   ],
   "source": [
    "concatenate4( a )"
   ]
  },
  {
   "cell_type": "markdown",
   "metadata": {},
   "source": [
    "This function has no side effects.  In particular we find that `a` has not been changed."
   ]
  },
  {
   "cell_type": "code",
   "execution_count": 29,
   "metadata": {
    "collapsed": false,
    "jupyter": {
     "outputs_hidden": false
    }
   },
   "outputs": [
    {
     "data": {
      "text/plain": [
       "(1, 2, 3)"
      ]
     },
     "execution_count": 29,
     "metadata": {},
     "output_type": "execute_result"
    }
   ],
   "source": [
    "a"
   ]
  },
  {
   "cell_type": "markdown",
   "metadata": {},
   "source": [
    "Functions with no side effects are called *pure functions* and are generally easier to reason about.\n",
    "\n",
    "I could also make the function that expects a mutable list into a pure function by changing `seq.append(4)` to `seq = seq + [4]`.  If I did that, I should document that the function does not alter the list parameter.  For tuple parameters, it goes without saying that the tuple isn't changed, because you can not change tuples in Python.\n",
    "\n",
    "For sets, Python also has mutable and immutable versions.  Mutable sets in Python are of type `set` and immutable sets are of type `frozen set`."
   ]
  },
  {
   "cell_type": "markdown",
   "metadata": {},
   "source": [
    "[Table of contents](index.ipynb) || ==[How to use these notes](howto.ipynb)==>"
   ]
  }
 ],
 "metadata": {
  "anaconda-cloud": {},
  "kernelspec": {
   "display_name": "Python 3",
   "language": "python",
   "name": "python3"
  },
  "language_info": {
   "codemirror_mode": {
    "name": "ipython",
    "version": 3
   },
   "file_extension": ".py",
   "mimetype": "text/x-python",
   "name": "python",
   "nbconvert_exporter": "python",
   "pygments_lexer": "ipython3",
   "version": "3.8.5"
  }
 },
 "nbformat": 4,
 "nbformat_minor": 4
}
