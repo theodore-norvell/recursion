{
 "cells": [
  {
   "cell_type": "markdown",
   "metadata": {},
   "source": [
    "Copyright (c) Theodore Norvell 2017. Licence: [Creative Commons Noncommercial Attribution International 4.0.](https://creativecommons.org/licenses/by-nc/4.0/)\n",
    "\n",
    "This is a Jupyter notebook. See [How to use these notes](howTo.html).\n",
    "\n",
    "[UP TO THE TABLE OF CONTENTS](index.html)"
   ]
  },
  {
   "cell_type": "markdown",
   "metadata": {},
   "source": [
    "# Combinations\n",
    "\n",
    "## The problem\n",
    "\n",
    "Alice has 5 tickets to the Red Queen's ball (in addition to her own). She has 10 friends she'd like to take.  She wonders how many ways she can pick 5 friends out of a total of 10.\n",
    "\n",
    "### A generalization\n",
    "\n",
    "In general she'd like to know how many ways she can pick $r$ things out of a set of $n$ things.  Of course this only makes sense if $0 \\le r \\le n$.  Let's call this function `combinations` so `combinations(n, r)` will be the number of ways to pick a subset of size `r` out of a set of size `n`.\n",
    "\n",
    "### A contract\n",
    "\n",
    "We write a contract for the `combinations` function.\n",
    "\n",
    "\n",
    "The contract is\n",
    "\n",
    "~~~~python\n",
    "    def combinations( n, r ):\n",
    "        \"\"\"\n",
    "        Pre: r and n are integers such that 0 <= r and r <= n\n",
    "        Post: result == the number of subsets of size r of a set of size n\n",
    "        \"\"\"\n",
    "~~~~\n",
    "\n",
    "\n",
    "## Problem analysis\n",
    "\n",
    "### Alice's observation\n",
    "\n",
    "Alice thinks about her 10 friends.  Every subset will either contain her friend Bill the Lizard or it won't. First she thinks about how many sets of size 5 include Bill.  There will be one such set for each way she could make a set of size 4 of out of the 9 remaining friends.  That's $combinations( 9, 4 )$. What about the sets that don't include Bill.  The number of those will be the number of sets of size 5 she can make out of her remaining 9 friends.  That's #combinationd( 9, 5 )$ Since each set either contains Bill or doesn't, we've accounted for all sets of size 5 that can by made from her 10 friends. And we haven't counted any twice.  We have \n",
    "\n",
    ">    $combinations( 10, 5 ) = combinations( 9, 4 ) + combinations( 9, 5 )$\n",
    "    \n",
    "Alice's idea generalizes to most pairs of numbers, but it doesn't work when $r=0$ or when $r=n$. In general we have\n",
    "\n",
    ">    $combinations( n, r ) = combinations( n-1, r-1 ) + combinations( n-1, r )$\n",
    "\n",
    "provided $r>0$ and $r<n$.\n",
    "\n",
    "### We need a base case\n",
    "\n",
    "The two cases that aren't dealt with by this rule can be dealt with easily enough.\n",
    "\n",
    "Consider a set $S$ of size $n$. There is one subset of size 0, the empty set.  So we have\n",
    "\n",
    ">    $combinations(n, 0) = 1$ for all $n \\ge 0$\n",
    "\n",
    "And there is one subset of size $n$, the set $S$ itself.  So we have\n",
    "\n",
    ">    $combinations(n, n) = 1$ for all $n \\ge 0$\n",
    "\n",
    "So altogether we have three properties\n",
    "\n",
    "1. $combinations(n, 0) = 1$ for all $n \\ge 0$.\n",
    "2. $combinations(n, n) = 1$ for all $n \\ge 0$.\n",
    "3. $combinations(n, r) = combinations( n-1, r-1 ) + combinations( n-1, r )$ for all $0 < r < n$.\n",
    "\n",
    "### Is this a definition\n",
    "\n",
    "These three properties uniquely define the function, we can see this by induction on $n$.\n",
    "\n",
    "\n",
    "### Some tests\n",
    "\n",
    "Based on the properties above we can make a table for testing.\n",
    "\n",
    "n \\ r | 0 | 1 | 2 | 3 | 4 | 5 | 6\n",
    "------|---|---|---|---|---|---|---\n",
    "0     | 1 |   |   |   |   |   |\n",
    "1     | 1 | 1 |   |   |   |   |\n",
    "2     | 1 | 2 | 1 |   |   |   |\n",
    "3     | 1 | 3 | 3 | 1 |   |   |\n",
    "4     | 1 | 4 | 6 | 4 | 1 |   |\n",
    "5     | 1 | 5 |10 |10 | 5 | 1 |\n",
    "6     | 1 | 6 |15 |20 |15 | 6 | 1\n",
    "\n",
    "This table is the first 7 rows of an infinite table known as Pascal's triangle"
   ]
  },
  {
   "cell_type": "markdown",
   "metadata": {},
   "source": [
    "# Your solution\n",
    "\n",
    "## Design\n",
    "\n",
    "Based on the problem analysis, we can write a design in pseudocode.  In this case the pseudocode will look a lot like Python, so you can take this step if you want or skip it if you don't.\n",
    "\n",
    "*[Put your pseudocode here]*\n",
    "\n",
    "## Analyze design\n",
    "\n",
    "Before coding, you should check that your design will work.  Here is a checklist\n",
    "\n",
    "* Is every case allowed by the precondition covered?\n",
    "* Does the code do the right thing (i.e. return a result allowed by the postcondition) in each case?\n",
    "* Is every recursive call smaller in some sense than its parent call?\n",
    "\n",
    "## Code\n",
    "\n",
    "Complete the following function\n"
   ]
  },
  {
   "cell_type": "code",
   "execution_count": 54,
   "metadata": {
    "collapsed": false
   },
   "outputs": [],
   "source": [
    "    def combinations( n, r ):\n",
    "        \"\"\"\n",
    "        Pre: n and r are integers such that 0 <= r and r <= n\n",
    "        Post: result == the number of subsets of size r of a set of size n\n",
    "        \"\"\""
   ]
  },
  {
   "cell_type": "markdown",
   "metadata": {},
   "source": [
    "## Analyze code\n",
    "\n",
    "If you wrote pseudocode, check that your design is consistant with the pseudocode.  If you didn't write pseudocode, use the checklist above to check your code.\n",
    "\n",
    "## Test\n",
    "\n",
    "Below are some tests. After you define the function, you can run these tests and compare the answers with expected answers above."
   ]
  },
  {
   "cell_type": "code",
   "execution_count": 55,
   "metadata": {
    "collapsed": true
   },
   "outputs": [],
   "source": [
    "combinations(0, 0)"
   ]
  },
  {
   "cell_type": "code",
   "execution_count": 56,
   "metadata": {
    "collapsed": true
   },
   "outputs": [],
   "source": [
    "combinations(4, 0)"
   ]
  },
  {
   "cell_type": "code",
   "execution_count": 57,
   "metadata": {
    "collapsed": true
   },
   "outputs": [],
   "source": [
    "combinations(4, 4)"
   ]
  },
  {
   "cell_type": "code",
   "execution_count": 58,
   "metadata": {
    "collapsed": true
   },
   "outputs": [],
   "source": [
    "combinations(6, 2)"
   ]
  },
  {
   "cell_type": "markdown",
   "metadata": {},
   "source": [
    "Now let's compare your anSwers with the first 7 rows of Pascal's triangle"
   ]
  },
  {
   "cell_type": "code",
   "execution_count": 59,
   "metadata": {
    "collapsed": false
   },
   "outputs": [
    {
     "name": "stdout",
     "output_type": "stream",
     "text": [
      "c( 0 , 0 ) = None \n",
      "c( 1 , 0 ) = None c( 1 , 1 ) = None \n",
      "c( 2 , 0 ) = None c( 2 , 1 ) = None c( 2 , 2 ) = None \n",
      "c( 3 , 0 ) = None c( 3 , 1 ) = None c( 3 , 2 ) = None c( 3 , 3 ) = None \n",
      "c( 4 , 0 ) = None c( 4 , 1 ) = None c( 4 , 2 ) = None c( 4 , 3 ) = None c( 4 , 4 ) = None \n",
      "c( 5 , 0 ) = None c( 5 , 1 ) = None c( 5 , 2 ) = None c( 5 , 3 ) = None c( 5 , 4 ) = None c( 5 , 5 ) = None \n",
      "c( 6 , 0 ) = None c( 6 , 1 ) = None c( 6 , 2 ) = None c( 6 , 3 ) = None c( 6 , 4 ) = None c( 6 , 5 ) = None c( 6 , 6 ) = None \n",
      "FAILED on these inputs:  {(6, 6), (3, 0), (2, 1), (6, 2), (5, 1), (4, 0), (3, 3), (5, 5), (4, 4), (6, 3), (5, 0), (2, 2), (4, 1), (1, 1), (6, 4), (3, 2), (0, 0), (5, 4), (6, 0), (4, 2), (1, 0), (6, 5), (5, 3), (6, 1), (3, 1), (2, 0), (4, 3), (5, 2)}\n"
     ]
    }
   ],
   "source": [
    "pascal = [ [1], [1, 1], [1, 2, 1], [1, 3, 3, 1], [1, 4, 6, 4, 1], [1, 5, 10, 10, 5, 1], [1, 6, 15, 20, 15, 6, 1]]\n",
    "failures = set()\n",
    "for n in range(0, 7) :\n",
    "    for r in range(0, n+1):\n",
    "        result = combinations(n,r)\n",
    "        print(\"c(\", n, \",\", r, \") =\", result, end=\" \" )\n",
    "        if result != pascal[n][r]: failures.add( (n, r) ) \n",
    "    print()\n",
    "if len(failures) == 0 : print( \"PASSED\")\n",
    "else: print( \"FAILED on these inputs: \", failures )"
   ]
  },
  {
   "cell_type": "markdown",
   "metadata": {},
   "source": [
    "# My Solution\n",
    "\n",
    "## Design\n",
    "\n",
    "Here is my pseudo code\n",
    "\n",
    "> **function** $combinations( n : nat, r : nat ) $\n",
    ">> **pre** $0 \\le r \\le n$<BR>\n",
    ">> **post** result = the number of subsets of size r of a set of size n\n",
    ">>\n",
    ">> **if** $r = 0$ **then** 1<BR>\n",
    ">> | $r = n$ **then** 1<BR>\n",
    ">> | $0 < r < n$ **then** $combinations( n-1, r-1) + combinations( n-1, r)$<BR>\n",
    ">> **end if**\n",
    "\n",
    "## Code\n",
    "\n",
    "And here is the Python 3 code"
   ]
  },
  {
   "cell_type": "code",
   "execution_count": 60,
   "metadata": {
    "collapsed": true
   },
   "outputs": [],
   "source": [
    "def combinationsMine( n, r ):\n",
    "    \"\"\"\n",
    "    Pre: n and r are integers such that 0 <= r and r <= n\n",
    "    Post: result == the number of subsets of size r of a set of size n\n",
    "    \"\"\"\n",
    "    assert isinstance(n, int) and n >= 0\n",
    "    assert isinstance(r, int) and 0 <= r and r <= n\n",
    "    if r == 0: return 1\n",
    "    elif r == n: return 1\n",
    "    else: return combinationsMine(n-1, r-1) + combinationsMine(n-1, r)"
   ]
  },
  {
   "cell_type": "markdown",
   "metadata": {},
   "source": [
    "\n",
    "## Test"
   ]
  },
  {
   "cell_type": "code",
   "execution_count": 53,
   "metadata": {
    "collapsed": false
   },
   "outputs": [
    {
     "data": {
      "text/plain": [
       "1"
      ]
     },
     "execution_count": 53,
     "metadata": {},
     "output_type": "execute_result"
    }
   ],
   "source": [
    "combinationsMine(0, 0)"
   ]
  },
  {
   "cell_type": "code",
   "execution_count": 44,
   "metadata": {
    "collapsed": false
   },
   "outputs": [
    {
     "data": {
      "text/plain": [
       "1"
      ]
     },
     "execution_count": 44,
     "metadata": {},
     "output_type": "execute_result"
    }
   ],
   "source": [
    "combinationsMine(4, 0)"
   ]
  },
  {
   "cell_type": "code",
   "execution_count": 45,
   "metadata": {
    "collapsed": false
   },
   "outputs": [
    {
     "data": {
      "text/plain": [
       "1"
      ]
     },
     "execution_count": 45,
     "metadata": {},
     "output_type": "execute_result"
    }
   ],
   "source": [
    "combinationsMine(4, 4)"
   ]
  },
  {
   "cell_type": "code",
   "execution_count": 46,
   "metadata": {
    "collapsed": false
   },
   "outputs": [
    {
     "data": {
      "text/plain": [
       "15"
      ]
     },
     "execution_count": 46,
     "metadata": {},
     "output_type": "execute_result"
    }
   ],
   "source": [
    "combinationsMine(6, 2)"
   ]
  },
  {
   "cell_type": "markdown",
   "metadata": {},
   "source": [
    "Next we'll compare with Pascal's triangle."
   ]
  },
  {
   "cell_type": "code",
   "execution_count": 50,
   "metadata": {
    "collapsed": false
   },
   "outputs": [
    {
     "name": "stdout",
     "output_type": "stream",
     "text": [
      "c( 0 , 0 ) = 1 \n",
      "c( 1 , 0 ) = 1 c( 1 , 1 ) = 1 \n",
      "c( 2 , 0 ) = 1 c( 2 , 1 ) = 2 c( 2 , 2 ) = 1 \n",
      "c( 3 , 0 ) = 1 c( 3 , 1 ) = 3 c( 3 , 2 ) = 3 c( 3 , 3 ) = 1 \n",
      "c( 4 , 0 ) = 1 c( 4 , 1 ) = 4 c( 4 , 2 ) = 6 c( 4 , 3 ) = 4 c( 4 , 4 ) = 1 \n",
      "c( 5 , 0 ) = 1 c( 5 , 1 ) = 5 c( 5 , 2 ) = 10 c( 5 , 3 ) = 10 c( 5 , 4 ) = 5 c( 5 , 5 ) = 1 \n",
      "c( 6 , 0 ) = 1 c( 6 , 1 ) = 6 c( 6 , 2 ) = 15 c( 6 , 3 ) = 20 c( 6 , 4 ) = 15 c( 6 , 5 ) = 6 c( 6 , 6 ) = 1 \n",
      "PASSED\n"
     ]
    }
   ],
   "source": [
    "failures = set()\n",
    "for n in range(0, 7) :\n",
    "    for r in range(0, n+1):\n",
    "        result = combinationsMine(n,r)\n",
    "        print(\"c(\", n, \",\", r, \") =\", result, end=\" \" )\n",
    "        if result != pascal[n][r]: failures.add( (n, r) ) \n",
    "    print()\n",
    "if len(failures) == 0 : print( \"PASSED\")\n",
    "else: print( \"FAILED on these inputs: \", failures )"
   ]
  },
  {
   "cell_type": "markdown",
   "metadata": {},
   "source": [
    "# Going further\n",
    "\n",
    "The straightforward recursive solution that I've used is very inefficient.  I'm going to ignore this problem for now.  The point of these exercises is to get comfortable with creating correct recursive solutions without worrying about efficiency.  Later we'll come back to the problem of making this solution efficient by using a technique called \"memoization\"."
   ]
  }
 ],
 "metadata": {
  "anaconda-cloud": {},
  "kernelspec": {
   "display_name": "Python [default]",
   "language": "python",
   "name": "python3"
  },
  "language_info": {
   "codemirror_mode": {
    "name": "ipython",
    "version": 3
   },
   "file_extension": ".py",
   "mimetype": "text/x-python",
   "name": "python",
   "nbconvert_exporter": "python",
   "pygments_lexer": "ipython3",
   "version": "3.5.2"
  }
 },
 "nbformat": 4,
 "nbformat_minor": 1
}
