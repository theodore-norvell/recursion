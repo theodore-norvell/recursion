{
 "cells": [
  {
   "cell_type": "markdown",
   "metadata": {},
   "source": [
    "Copyright (c) Theodore Norvell 2017. Licence: [Creative Commons Noncommercial Attribution International 4.0.](https://creativecommons.org/licenses/by-nc/4.0/)\n",
    "\n",
    "This is a Jupyter notebook. See [How to use these notes](howTo.html).\n",
    "\n",
    "[UP TO THE TABLE OF CONTENTS](index.html)"
   ]
  },
  {
   "cell_type": "markdown",
   "metadata": {},
   "source": [
    "# Intermezzo on variants\n",
    "\n",
    "## Heading for bottom\n",
    "\n",
    "One of the key ideas of recursive programming is that if a recursive program is going to work, there must be at least one case in which subroutine does not call itself. These cases --there could be more than one-- are called the base cases. For example in my definition for combinations.\n"
   ]
  },
  {
   "cell_type": "code",
   "execution_count": 1,
   "metadata": {
    "collapsed": true
   },
   "outputs": [],
   "source": [
    "def combinationsMine( n, r ):\n",
    "    \"\"\"\n",
    "    Pre: n and r are integers such that 0 <= r and r <= n\n",
    "    Post: result == the number of subsets of size r of a set of size n\n",
    "    \"\"\"\n",
    "    assert isinstance(n, int) and n >= 0\n",
    "    assert isinstance(r, int) and 0 <= r and r <= n\n",
    "    if r == 0: return 1\n",
    "    elif r == n: return 1\n",
    "    else: return combinationsMine(n-1, r-1) + combinationsMine(n-1, r)"
   ]
  },
  {
   "cell_type": "markdown",
   "metadata": {},
   "source": [
    "The base cases are r==n and r==n\n",
    "\n",
    "When a base ase is called, we call sometime say the recursion has \"bottomed out\".\n",
    "\n",
    "So there has to be a bottom."
   ]
  }
 ],
 "metadata": {
  "anaconda-cloud": {},
  "kernelspec": {
   "display_name": "Python [default]",
   "language": "python",
   "name": "python3"
  },
  "language_info": {
   "codemirror_mode": {
    "name": "ipython",
    "version": 3
   },
   "file_extension": ".py",
   "mimetype": "text/x-python",
   "name": "python",
   "nbconvert_exporter": "python",
   "pygments_lexer": "ipython3",
   "version": "3.5.2"
  }
 },
 "nbformat": 4,
 "nbformat_minor": 1
}
