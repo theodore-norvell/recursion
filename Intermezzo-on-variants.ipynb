{
 "cells": [
  {
   "cell_type": "markdown",
   "metadata": {},
   "source": [
    "Copyright (c) Theodore Norvell 2017. Licence: [Creative Commons Noncommercial Attribution International 4.0.](https://creativecommons.org/licenses/by-nc/4.0/)\n",
    "\n",
    "This is a Jupyter notebook. See [How to use these notes](howto.ipynb).\n",
    "\n",
    "[UP TO THE TABLE OF CONTENTS](index.ipynb)"
   ]
  },
  {
   "cell_type": "markdown",
   "metadata": {},
   "source": [
    "*\"Alice had not a moment to think about stopping herself before she found herself falling down what seemed to be a very deep well. ...*\n",
    "\n",
    "*\"Down, down, down. Would the fall *never* come to an end?\"* --Lewis Carrol, Alice's Adventures in Wonderland.\n",
    "\n",
    "# Intermezzo on variants\n",
    "\n",
    "## Heading for bottom\n",
    "\n",
    "One of the key ideas of recursive programming is that if a recursive program is going to work, there must be at least one case in which subroutine does not call itself. These cases --there could be more than one-- are called the base cases. For example in my definition for combinations.\n"
   ]
  },
  {
   "cell_type": "code",
   "execution_count": 1,
   "metadata": {
    "collapsed": true
   },
   "outputs": [],
   "source": [
    "def combinationsMine( n, r ):\n",
    "    \"\"\"\n",
    "    Pre: n and r are integers such that 0 <= r and r <= n\n",
    "    Post: result == the number of subsets of size r of a set of size n\n",
    "    \"\"\"\n",
    "    assert isinstance(n, int) and n >= 0\n",
    "    assert isinstance(r, int) and 0 <= r and r <= n\n",
    "    if r == 0: return 1\n",
    "    elif r == n: return 1\n",
    "    else: return combinationsMine(n-1, r-1) + combinationsMine(n-1, r)"
   ]
  },
  {
   "cell_type": "markdown",
   "metadata": {},
   "source": [
    "The base cases are r==n and r==n\n",
    "\n",
    "When a base case is called, we call sometime say the recursion has \"bottomed out\".\n",
    "\n",
    "So there has to be a bottom.\n",
    "\n",
    "How can we be sure that our recursion will hit bottom?\n",
    "\n",
    "The secret is in a function called the variant?  If we can find a variant function with the right properties, then the recursion must eventually hit the bottom.\n",
    "\n",
    "As an example, for the `combinationsMine` subroutine, a suitable variant function is\n",
    "$$\n",
    "    f(n, r) = n\n",
    "$$\n",
    "\n",
    "The variant function will have the same parameters as the subroutine.\n",
    "\n",
    "The first property a *suitable* variant function needs to have is that its value must be a natural number (i.e. an integer greater or equal to 0), provided its prameters respect the precondition of the subroutine.  We'll call this property (a).  You should check that our example, $f$ obeys this property.\n",
    "\n",
    "The second property the *suitable* should have is that its value for any child calls is less than the value for the parent call, assuming the parmeters of the parent call satsify the subroutine's precondition.  We'll call this property (b). You should check that our example $f$ obeys this property for the definition of `combinationsMine`.\n",
    "\n",
    "As always we require that every child call respects the precondition of the contract, assuming the parent call also respects the precondition of the contract. We'll call this property (c). It's not a property of the variant function, but of the recursive subroutine. You should check that the definition of `combinationsMine` satisfies this property.\n",
    "\n",
    "With these three properties ((a) The value of the variant function is natural provided the precondition is respected. (b) The value of the variant function is always smaller than the value for the parent call, provided the parent call respects the precondition. (c) All child calls respect the precondition, provided the parent call respects the precondition.) you can see that any call to a recursive subroutine will eventually get to a base case.\n",
    "\n",
    "We can prove this using proof by contradiction.  Suppose there is a call to our subroutine that respects the precondition, which makes a child call, which makes a grandchild call, that makes a great-grandchild call, and so on infinitely. From property (c), all these child calls respect the precondition. From property (a), the value of the variant function is a natural number, for all these calls.  Let's call these natural numbers $n_0$ for the original call, $n_1$ for the child call, $n_2$ for the grandchild call, and so on.  From property (b), we have $n_0 > n_1$ and $n_1 > n_2$ and so on infinitely.  But of course there is no infinitely long list of natural numbers such that\n",
    "$$\n",
    "    n_0 > n_1 > n_2 > n_3 > ...\n",
    "$$\n",
    "\n",
    "\n",
    "### Exercise\n",
    "\n",
    "As an exercise find a suitable variant function for the Factorial example, the Fibonnaci example, and the Partitions example.\n",
    "\n",
    "From now on, identifying a suitable variant function will be part of the design process.\n",
    "\n",
    "## Going further\n",
    "\n",
    "Very occasionally, we find it difficult to find a suitable variant function by the definition of suitable above.  An example is my first solution to the `superOperator` problem, which was."
   ]
  },
  {
   "cell_type": "code",
   "execution_count": 3,
   "metadata": {
    "collapsed": true
   },
   "outputs": [],
   "source": [
    "def superOpMine( x, y, z ) :\n",
    "    \"\"\"\n",
    "    pre: y and z are integers with y >= 1 and z >= 1\n",
    "    post: If z is 1, the result is (...(x+x)+ ...)+x, with y xs.\n",
    "        And if z is 2, the result is (...(x*x)* ...)*x, with y xs\n",
    "        And if z is 3, the result (...(x to the x) to the ... ) to the x,  with y xs.\n",
    "        And if z is 4 or more the result is superOpMine( ... superOpMine( superOpMine(x, x, z-1), x, z-1) ..., x, z-1), with y xs.\n",
    "    \"\"\"\n",
    "    assert isinstance(y, int) and y >= 1\n",
    "    if y==1: return x\n",
    "    elif z==1: return superOpMine( x, y-1, 1) + x\n",
    "    else: return superOpMine( superOpMine( x, y-1, z), x, z-1)"
   ]
  },
  {
   "cell_type": "markdown",
   "metadata": {},
   "source": [
    "We can't use the function \n",
    "$$\n",
    "    f(x, y, z) = z\n",
    "$$\n",
    "since it doesn't obey property (b) for the calls `superOpMine( x, y-1, 1)` and `superOpMine( x, y-1, z)`.  We can't use the function \n",
    "$$\n",
    "    f(x, y, z) = y\n",
    "$$\n",
    "since it doesn't necessarily obey property (b) for the call `superOpMine( superOpMine( x, y-1, z), x, z-1)`.  We can't use \n",
    "$$\n",
    "    f(x, y, z) = x\n",
    "$$\n",
    "since it doesn't necessarily obey property (b) for either recursive call.\n",
    "\n",
    "It turns out there is no simple suitable variant function for this particular recursive subroutine if we use our definition of *suitable* above.\n",
    "\n",
    "To accomodate recursive subroutines like `superOpMine`, we can change the definition of *suitable*, just a litte.  First we need a bit of mathematics.\n",
    "\n",
    "## Well founded sets\n",
    "\n",
    "A sequence $n_0$, $n_1$, $n_2$, ..., whether infinite or finite is called a *descending sequence* if\n",
    "$$\n",
    "    n_0 > n_1 > n_2 > ...\n",
    "$$\n",
    "\n",
    "A set $S$ together with a relation $>$ is called a *well founded set* if there are no infinite descending sequences $n_0$, $n_1$, $n_2$, ... of elements of $S$.\n",
    "\n",
    "Clearly the natural numbers together with the usual $>$ relation is a well founded set.  The integers are not, since we have\n",
    "$$\n",
    "    2 > 1 > 0 > -1 > -2 > ..\n",
    "$$ Nor are the postitive rational numbers together with the usual $>$ relation, since we have\n",
    "$$\n",
    "   1 > 1/2 > 1/3 > 1/4 > ...\n",
    "$$\n",
    "\n",
    "Pairs of natural numbers are a well founded set, if we define $>$ as lexicographic ordering, which means\n",
    "$$\n",
    "    (a, b) > (c, d) \\;\\text{if and only if}\\; a > c \\; \\text{or} \\; (a=c\\;\\text{and}\\;b > d\n",
    "$$\n",
    "If a decending sequence starts with $(a,b)$, then after at most $b$ steps the first component has to decrease, and then after a finite number of steps, the first component has to decrease again.  So there can't be an infinite decending sequence. For example starting with $(1,3)$, I can make a sequence\n",
    "$$\n",
    "   (1,3) > (1,2) > (1,1), > (1,0) > (0, 2) > (0, 1) > (0, 0)\n",
    "$$\n",
    "And the sequence must end here.  I can make a descending sequence starting with $(1,3)$ any finite length I want, but it has to be finite.\n",
    "\n",
    "## Modifying \"suitable\"\n",
    "\n",
    "So all we need to do is modify our definition of *suitable* so that instead of having to compute a natural number in property (a), it can compute a member of any well founded set. And we need to use the order of the well founded set in property (b).\n",
    "\n",
    "### Exercise\n",
    "\n",
    "For `superOpMine`, can you find a suitable variant function?"
   ]
  },
  {
   "cell_type": "code",
   "execution_count": null,
   "metadata": {
    "collapsed": true
   },
   "outputs": [],
   "source": []
  }
 ],
 "metadata": {
  "anaconda-cloud": {},
  "kernelspec": {
   "display_name": "Python [default]",
   "language": "python",
   "name": "python3"
  },
  "language_info": {
   "codemirror_mode": {
    "name": "ipython",
    "version": 3
   },
   "file_extension": ".py",
   "mimetype": "text/x-python",
   "name": "python",
   "nbconvert_exporter": "python",
   "pygments_lexer": "ipython3",
   "version": "3.5.2"
  }
 },
 "nbformat": 4,
 "nbformat_minor": 1
}
